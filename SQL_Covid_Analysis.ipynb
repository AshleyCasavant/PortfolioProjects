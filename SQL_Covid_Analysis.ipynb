{
    "metadata": {
        "kernelspec": {
            "name": "SQL",
            "display_name": "SQL",
            "language": "sql"
        },
        "language_info": {
            "name": "sql",
            "version": ""
        }
    },
    "nbformat_minor": 2,
    "nbformat": 4,
    "cells": [
        {
            "cell_type": "markdown",
            "source": [
                "# Exploratory Analysis on Covid Data Utilizing SQL"
            ],
            "metadata": {
                "azdata_cell_guid": "5ce9774a-d45c-4943-ae21-995d11e6703d"
            },
            "attachments": {}
        },
        {
            "cell_type": "markdown",
            "source": [
                "Tables have been limited in size for simpler viewing experience."
            ],
            "metadata": {
                "azdata_cell_guid": "c6374ab4-c162-49fb-b52f-7c5098eb320f"
            },
            "attachments": {}
        },
        {
            "cell_type": "code",
            "source": [
                "SELECT TOP 1 * FROM CovidDeaths;"
            ],
            "metadata": {
                "language": "sql",
                "azdata_cell_guid": "83bae2fa-a3a7-4b2d-a0ae-d9dc6936a857"
            },
            "outputs": [
                {
                    "output_type": "display_data",
                    "data": {
                        "text/html": "(1 row affected)"
                    },
                    "metadata": {}
                },
                {
                    "output_type": "display_data",
                    "data": {
                        "text/html": "Total execution time: 00:00:00.060"
                    },
                    "metadata": {}
                },
                {
                    "output_type": "execute_result",
                    "metadata": {},
                    "execution_count": 12,
                    "data": {
                        "application/vnd.dataresource+json": {
                            "schema": {
                                "fields": [
                                    {
                                        "name": "iso_code"
                                    },
                                    {
                                        "name": "continent"
                                    },
                                    {
                                        "name": "location"
                                    },
                                    {
                                        "name": "date"
                                    },
                                    {
                                        "name": "population"
                                    },
                                    {
                                        "name": "total_cases"
                                    },
                                    {
                                        "name": "new_cases"
                                    },
                                    {
                                        "name": "new_cases_smoothed"
                                    },
                                    {
                                        "name": "total_deaths"
                                    },
                                    {
                                        "name": "new_deaths"
                                    },
                                    {
                                        "name": "new_deaths_smoothed"
                                    },
                                    {
                                        "name": "total_cases_per_million"
                                    },
                                    {
                                        "name": "new_cases_per_million"
                                    },
                                    {
                                        "name": "new_cases_smoothed_per_million"
                                    },
                                    {
                                        "name": "total_deaths_per_million"
                                    },
                                    {
                                        "name": "new_deaths_per_million"
                                    },
                                    {
                                        "name": "new_deaths_smoothed_per_million"
                                    },
                                    {
                                        "name": "reproduction_rate"
                                    },
                                    {
                                        "name": "icu_patients"
                                    },
                                    {
                                        "name": "icu_patients_per_million"
                                    },
                                    {
                                        "name": "hosp_patients"
                                    },
                                    {
                                        "name": "hosp_patients_per_million"
                                    },
                                    {
                                        "name": "weekly_icu_admissions"
                                    },
                                    {
                                        "name": "weekly_icu_admissions_per_million"
                                    },
                                    {
                                        "name": "weekly_hosp_admissions"
                                    },
                                    {
                                        "name": "weekly_hosp_admissions_per_million"
                                    },
                                    {
                                        "name": "total_tests"
                                    },
                                    {
                                        "name": "column28"
                                    },
                                    {
                                        "name": "column29"
                                    },
                                    {
                                        "name": "column30"
                                    },
                                    {
                                        "name": "column31"
                                    },
                                    {
                                        "name": "column32"
                                    },
                                    {
                                        "name": "column33"
                                    },
                                    {
                                        "name": "column34"
                                    },
                                    {
                                        "name": "column35"
                                    },
                                    {
                                        "name": "column36"
                                    },
                                    {
                                        "name": "column37"
                                    },
                                    {
                                        "name": "column38"
                                    },
                                    {
                                        "name": "column39"
                                    },
                                    {
                                        "name": "column40"
                                    },
                                    {
                                        "name": "column41"
                                    },
                                    {
                                        "name": "column42"
                                    },
                                    {
                                        "name": "column43"
                                    },
                                    {
                                        "name": "column44"
                                    },
                                    {
                                        "name": "column45"
                                    },
                                    {
                                        "name": "column46"
                                    },
                                    {
                                        "name": "column47"
                                    },
                                    {
                                        "name": "column48"
                                    },
                                    {
                                        "name": "column49"
                                    },
                                    {
                                        "name": "column50"
                                    },
                                    {
                                        "name": "column51"
                                    },
                                    {
                                        "name": "column52"
                                    },
                                    {
                                        "name": "column53"
                                    },
                                    {
                                        "name": "column54"
                                    },
                                    {
                                        "name": "column55"
                                    },
                                    {
                                        "name": "column56"
                                    },
                                    {
                                        "name": "column57"
                                    },
                                    {
                                        "name": "column58"
                                    },
                                    {
                                        "name": "column59"
                                    },
                                    {
                                        "name": "column60"
                                    },
                                    {
                                        "name": "column61"
                                    },
                                    {
                                        "name": "column62"
                                    },
                                    {
                                        "name": "column63"
                                    },
                                    {
                                        "name": "column64"
                                    },
                                    {
                                        "name": "column65"
                                    },
                                    {
                                        "name": "column66"
                                    },
                                    {
                                        "name": "column67"
                                    }
                                ]
                            },
                            "data": [
                                {
                                    "iso_code": "AFG",
                                    "continent": "Asia",
                                    "location": "Afghanistan",
                                    "date": "2020-01-03",
                                    "population": "41128772",
                                    "total_cases": "NULL",
                                    "new_cases": "0",
                                    "new_cases_smoothed": "NULL",
                                    "total_deaths": "NULL",
                                    "new_deaths": "0",
                                    "new_deaths_smoothed": "NULL",
                                    "total_cases_per_million": "NULL",
                                    "new_cases_per_million": "0",
                                    "new_cases_smoothed_per_million": "NULL",
                                    "total_deaths_per_million": "NULL",
                                    "new_deaths_per_million": "0",
                                    "new_deaths_smoothed_per_million": "NULL",
                                    "reproduction_rate": "NULL",
                                    "icu_patients": "NULL",
                                    "icu_patients_per_million": "NULL",
                                    "hosp_patients": "NULL",
                                    "hosp_patients_per_million": "NULL",
                                    "weekly_icu_admissions": "NULL",
                                    "weekly_icu_admissions_per_million": "NULL",
                                    "weekly_hosp_admissions": "NULL",
                                    "weekly_hosp_admissions_per_million": "NULL",
                                    "total_tests": "NULL",
                                    "column28": "NULL",
                                    "column29": "NULL",
                                    "column30": "NULL",
                                    "column31": "NULL",
                                    "column32": "NULL",
                                    "column33": "NULL",
                                    "column34": "NULL",
                                    "column35": "NULL",
                                    "column36": "NULL",
                                    "column37": "NULL",
                                    "column38": "NULL",
                                    "column39": "NULL",
                                    "column40": "NULL",
                                    "column41": "NULL",
                                    "column42": "NULL",
                                    "column43": "NULL",
                                    "column44": "NULL",
                                    "column45": "NULL",
                                    "column46": "NULL",
                                    "column47": "NULL",
                                    "column48": "NULL",
                                    "column49": "NULL",
                                    "column50": "NULL",
                                    "column51": "NULL",
                                    "column52": "NULL",
                                    "column53": "NULL",
                                    "column54": "NULL",
                                    "column55": "NULL",
                                    "column56": "NULL",
                                    "column57": "NULL",
                                    "column58": "NULL",
                                    "column59": "NULL",
                                    "column60": "NULL",
                                    "column61": "NULL",
                                    "column62": "NULL",
                                    "column63": "NULL",
                                    "column64": "NULL",
                                    "column65": "NULL",
                                    "column66": "NULL",
                                    "column67": "NULL"
                                }
                            ]
                        },
                        "text/html": [
                            "<table>",
                            "<tr><th>iso_code</th><th>continent</th><th>location</th><th>date</th><th>population</th><th>total_cases</th><th>new_cases</th><th>new_cases_smoothed</th><th>total_deaths</th><th>new_deaths</th><th>new_deaths_smoothed</th><th>total_cases_per_million</th><th>new_cases_per_million</th><th>new_cases_smoothed_per_million</th><th>total_deaths_per_million</th><th>new_deaths_per_million</th><th>new_deaths_smoothed_per_million</th><th>reproduction_rate</th><th>icu_patients</th><th>icu_patients_per_million</th><th>hosp_patients</th><th>hosp_patients_per_million</th><th>weekly_icu_admissions</th><th>weekly_icu_admissions_per_million</th><th>weekly_hosp_admissions</th><th>weekly_hosp_admissions_per_million</th><th>total_tests</th><th>column28</th><th>column29</th><th>column30</th><th>column31</th><th>column32</th><th>column33</th><th>column34</th><th>column35</th><th>column36</th><th>column37</th><th>column38</th><th>column39</th><th>column40</th><th>column41</th><th>column42</th><th>column43</th><th>column44</th><th>column45</th><th>column46</th><th>column47</th><th>column48</th><th>column49</th><th>column50</th><th>column51</th><th>column52</th><th>column53</th><th>column54</th><th>column55</th><th>column56</th><th>column57</th><th>column58</th><th>column59</th><th>column60</th><th>column61</th><th>column62</th><th>column63</th><th>column64</th><th>column65</th><th>column66</th><th>column67</th></tr>",
                            "<tr><td>AFG</td><td>Asia</td><td>Afghanistan</td><td>2020-01-03</td><td>41128772</td><td>NULL</td><td>0</td><td>NULL</td><td>NULL</td><td>0</td><td>NULL</td><td>NULL</td><td>0</td><td>NULL</td><td>NULL</td><td>0</td><td>NULL</td><td>NULL</td><td>NULL</td><td>NULL</td><td>NULL</td><td>NULL</td><td>NULL</td><td>NULL</td><td>NULL</td><td>NULL</td><td>NULL</td><td>NULL</td><td>NULL</td><td>NULL</td><td>NULL</td><td>NULL</td><td>NULL</td><td>NULL</td><td>NULL</td><td>NULL</td><td>NULL</td><td>NULL</td><td>NULL</td><td>NULL</td><td>NULL</td><td>NULL</td><td>NULL</td><td>NULL</td><td>NULL</td><td>NULL</td><td>NULL</td><td>NULL</td><td>NULL</td><td>NULL</td><td>NULL</td><td>NULL</td><td>NULL</td><td>NULL</td><td>NULL</td><td>NULL</td><td>NULL</td><td>NULL</td><td>NULL</td><td>NULL</td><td>NULL</td><td>NULL</td><td>NULL</td><td>NULL</td><td>NULL</td><td>NULL</td><td>NULL</td></tr>",
                            "</table>"
                        ]
                    }
                }
            ],
            "execution_count": 12
        },
        {
            "cell_type": "code",
            "source": [
                "SELECT TOP 1 * FROM CovidVaccinations"
            ],
            "metadata": {
                "language": "sql",
                "azdata_cell_guid": "8946ffd1-04a2-49ad-9bee-0783dd7d5b2b"
            },
            "outputs": [
                {
                    "output_type": "display_data",
                    "data": {
                        "text/html": "(1 row affected)"
                    },
                    "metadata": {}
                },
                {
                    "output_type": "display_data",
                    "data": {
                        "text/html": "Total execution time: 00:00:00.023"
                    },
                    "metadata": {}
                },
                {
                    "output_type": "execute_result",
                    "metadata": {},
                    "execution_count": 13,
                    "data": {
                        "application/vnd.dataresource+json": {
                            "schema": {
                                "fields": [
                                    {
                                        "name": "iso_code"
                                    },
                                    {
                                        "name": "continent"
                                    },
                                    {
                                        "name": "location"
                                    },
                                    {
                                        "name": "date"
                                    },
                                    {
                                        "name": "total_tests"
                                    },
                                    {
                                        "name": "new_tests"
                                    },
                                    {
                                        "name": "total_tests_per_thousand"
                                    },
                                    {
                                        "name": "new_tests_per_thousand"
                                    },
                                    {
                                        "name": "new_tests_smoothed"
                                    },
                                    {
                                        "name": "new_tests_smoothed_per_thousand"
                                    },
                                    {
                                        "name": "positive_rate"
                                    },
                                    {
                                        "name": "tests_per_case"
                                    },
                                    {
                                        "name": "tests_units"
                                    },
                                    {
                                        "name": "total_vaccinations"
                                    },
                                    {
                                        "name": "people_vaccinated"
                                    },
                                    {
                                        "name": "people_fully_vaccinated"
                                    },
                                    {
                                        "name": "total_boosters"
                                    },
                                    {
                                        "name": "new_vaccinations"
                                    },
                                    {
                                        "name": "new_vaccinations_smoothed"
                                    },
                                    {
                                        "name": "total_vaccinations_per_hundred"
                                    },
                                    {
                                        "name": "people_vaccinated_per_hundred"
                                    },
                                    {
                                        "name": "people_fully_vaccinated_per_hundred"
                                    },
                                    {
                                        "name": "total_boosters_per_hundred"
                                    },
                                    {
                                        "name": "new_vaccinations_smoothed_per_million"
                                    },
                                    {
                                        "name": "new_people_vaccinated_smoothed"
                                    },
                                    {
                                        "name": "new_people_vaccinated_smoothed_per_hundred"
                                    },
                                    {
                                        "name": "stringency_index"
                                    },
                                    {
                                        "name": "population_density"
                                    },
                                    {
                                        "name": "median_age"
                                    },
                                    {
                                        "name": "aged_65_older"
                                    },
                                    {
                                        "name": "aged_70_older"
                                    },
                                    {
                                        "name": "gdp_per_capita"
                                    },
                                    {
                                        "name": "extreme_poverty"
                                    },
                                    {
                                        "name": "cardiovasc_death_rate"
                                    },
                                    {
                                        "name": "diabetes_prevalence"
                                    },
                                    {
                                        "name": "female_smokers"
                                    },
                                    {
                                        "name": "male_smokers"
                                    },
                                    {
                                        "name": "handwashing_facilities"
                                    },
                                    {
                                        "name": "hospital_beds_per_thousand"
                                    },
                                    {
                                        "name": "life_expectancy"
                                    },
                                    {
                                        "name": "human_development_index"
                                    },
                                    {
                                        "name": "excess_mortality_cumulative_absolute"
                                    },
                                    {
                                        "name": "excess_mortality_cumulative"
                                    },
                                    {
                                        "name": "excess_mortality"
                                    },
                                    {
                                        "name": "excess_mortality_cumulative_per_million"
                                    }
                                ]
                            },
                            "data": [
                                {
                                    "iso_code": "AFG",
                                    "continent": "Asia",
                                    "location": "Afghanistan",
                                    "date": "2020-01-03",
                                    "total_tests": "NULL",
                                    "new_tests": "NULL",
                                    "total_tests_per_thousand": "NULL",
                                    "new_tests_per_thousand": "NULL",
                                    "new_tests_smoothed": "NULL",
                                    "new_tests_smoothed_per_thousand": "NULL",
                                    "positive_rate": "NULL",
                                    "tests_per_case": "NULL",
                                    "tests_units": "NULL",
                                    "total_vaccinations": "NULL",
                                    "people_vaccinated": "NULL",
                                    "people_fully_vaccinated": "NULL",
                                    "total_boosters": "NULL",
                                    "new_vaccinations": "NULL",
                                    "new_vaccinations_smoothed": "NULL",
                                    "total_vaccinations_per_hundred": "NULL",
                                    "people_vaccinated_per_hundred": "NULL",
                                    "people_fully_vaccinated_per_hundred": "NULL",
                                    "total_boosters_per_hundred": "NULL",
                                    "new_vaccinations_smoothed_per_million": "NULL",
                                    "new_people_vaccinated_smoothed": "NULL",
                                    "new_people_vaccinated_smoothed_per_hundred": "NULL",
                                    "stringency_index": "0",
                                    "population_density": "54.422",
                                    "median_age": "18.6",
                                    "aged_65_older": "2.581",
                                    "aged_70_older": "1.337",
                                    "gdp_per_capita": "1803.987",
                                    "extreme_poverty": "NULL",
                                    "cardiovasc_death_rate": "597.029",
                                    "diabetes_prevalence": "9.59",
                                    "female_smokers": "NULL",
                                    "male_smokers": "NULL",
                                    "handwashing_facilities": "37.746",
                                    "hospital_beds_per_thousand": "0.5",
                                    "life_expectancy": "64.83",
                                    "human_development_index": "0.511",
                                    "excess_mortality_cumulative_absolute": "NULL",
                                    "excess_mortality_cumulative": "NULL",
                                    "excess_mortality": "NULL",
                                    "excess_mortality_cumulative_per_million": "NULL"
                                }
                            ]
                        },
                        "text/html": [
                            "<table>",
                            "<tr><th>iso_code</th><th>continent</th><th>location</th><th>date</th><th>total_tests</th><th>new_tests</th><th>total_tests_per_thousand</th><th>new_tests_per_thousand</th><th>new_tests_smoothed</th><th>new_tests_smoothed_per_thousand</th><th>positive_rate</th><th>tests_per_case</th><th>tests_units</th><th>total_vaccinations</th><th>people_vaccinated</th><th>people_fully_vaccinated</th><th>total_boosters</th><th>new_vaccinations</th><th>new_vaccinations_smoothed</th><th>total_vaccinations_per_hundred</th><th>people_vaccinated_per_hundred</th><th>people_fully_vaccinated_per_hundred</th><th>total_boosters_per_hundred</th><th>new_vaccinations_smoothed_per_million</th><th>new_people_vaccinated_smoothed</th><th>new_people_vaccinated_smoothed_per_hundred</th><th>stringency_index</th><th>population_density</th><th>median_age</th><th>aged_65_older</th><th>aged_70_older</th><th>gdp_per_capita</th><th>extreme_poverty</th><th>cardiovasc_death_rate</th><th>diabetes_prevalence</th><th>female_smokers</th><th>male_smokers</th><th>handwashing_facilities</th><th>hospital_beds_per_thousand</th><th>life_expectancy</th><th>human_development_index</th><th>excess_mortality_cumulative_absolute</th><th>excess_mortality_cumulative</th><th>excess_mortality</th><th>excess_mortality_cumulative_per_million</th></tr>",
                            "<tr><td>AFG</td><td>Asia</td><td>Afghanistan</td><td>2020-01-03</td><td>NULL</td><td>NULL</td><td>NULL</td><td>NULL</td><td>NULL</td><td>NULL</td><td>NULL</td><td>NULL</td><td>NULL</td><td>NULL</td><td>NULL</td><td>NULL</td><td>NULL</td><td>NULL</td><td>NULL</td><td>NULL</td><td>NULL</td><td>NULL</td><td>NULL</td><td>NULL</td><td>NULL</td><td>NULL</td><td>0</td><td>54.422</td><td>18.6</td><td>2.581</td><td>1.337</td><td>1803.987</td><td>NULL</td><td>597.029</td><td>9.59</td><td>NULL</td><td>NULL</td><td>37.746</td><td>0.5</td><td>64.83</td><td>0.511</td><td>NULL</td><td>NULL</td><td>NULL</td><td>NULL</td></tr>",
                            "</table>"
                        ]
                    }
                }
            ],
            "execution_count": 13
        },
        {
            "cell_type": "code",
            "source": [
                "SELECT TOP 25\n",
                "    Location \n",
                "    ,date \n",
                "    ,total_cases\n",
                "    ,new_cases\n",
                "    ,total_deaths\n",
                "    ,population \n",
                "FROM CovidDeaths\n",
                "ORDER BY 1,2;"
            ],
            "metadata": {
                "azdata_cell_guid": "eda1fcc3-163b-4f1b-a6ac-f66fa01f0b64",
                "language": "sql"
            },
            "outputs": [
                {
                    "output_type": "display_data",
                    "data": {
                        "text/html": "(25 rows affected)"
                    },
                    "metadata": {}
                },
                {
                    "output_type": "display_data",
                    "data": {
                        "text/html": "Total execution time: 00:00:00.139"
                    },
                    "metadata": {}
                },
                {
                    "output_type": "execute_result",
                    "metadata": {},
                    "execution_count": 14,
                    "data": {
                        "application/vnd.dataresource+json": {
                            "schema": {
                                "fields": [
                                    {
                                        "name": "Location"
                                    },
                                    {
                                        "name": "date"
                                    },
                                    {
                                        "name": "total_cases"
                                    },
                                    {
                                        "name": "new_cases"
                                    },
                                    {
                                        "name": "total_deaths"
                                    },
                                    {
                                        "name": "population"
                                    }
                                ]
                            },
                            "data": [
                                {
                                    "Location": "Afghanistan",
                                    "date": "2020-01-03",
                                    "total_cases": "NULL",
                                    "new_cases": "0",
                                    "total_deaths": "NULL",
                                    "population": "41128772"
                                },
                                {
                                    "Location": "Afghanistan",
                                    "date": "2020-01-04",
                                    "total_cases": "NULL",
                                    "new_cases": "0",
                                    "total_deaths": "NULL",
                                    "population": "41128772"
                                },
                                {
                                    "Location": "Afghanistan",
                                    "date": "2020-01-05",
                                    "total_cases": "NULL",
                                    "new_cases": "0",
                                    "total_deaths": "NULL",
                                    "population": "41128772"
                                },
                                {
                                    "Location": "Afghanistan",
                                    "date": "2020-01-06",
                                    "total_cases": "NULL",
                                    "new_cases": "0",
                                    "total_deaths": "NULL",
                                    "population": "41128772"
                                },
                                {
                                    "Location": "Afghanistan",
                                    "date": "2020-01-07",
                                    "total_cases": "NULL",
                                    "new_cases": "0",
                                    "total_deaths": "NULL",
                                    "population": "41128772"
                                },
                                {
                                    "Location": "Afghanistan",
                                    "date": "2020-01-08",
                                    "total_cases": "NULL",
                                    "new_cases": "0",
                                    "total_deaths": "NULL",
                                    "population": "41128772"
                                },
                                {
                                    "Location": "Afghanistan",
                                    "date": "2020-01-09",
                                    "total_cases": "NULL",
                                    "new_cases": "0",
                                    "total_deaths": "NULL",
                                    "population": "41128772"
                                },
                                {
                                    "Location": "Afghanistan",
                                    "date": "2020-01-10",
                                    "total_cases": "NULL",
                                    "new_cases": "0",
                                    "total_deaths": "NULL",
                                    "population": "41128772"
                                },
                                {
                                    "Location": "Afghanistan",
                                    "date": "2020-01-11",
                                    "total_cases": "NULL",
                                    "new_cases": "0",
                                    "total_deaths": "NULL",
                                    "population": "41128772"
                                },
                                {
                                    "Location": "Afghanistan",
                                    "date": "2020-01-12",
                                    "total_cases": "NULL",
                                    "new_cases": "0",
                                    "total_deaths": "NULL",
                                    "population": "41128772"
                                },
                                {
                                    "Location": "Afghanistan",
                                    "date": "2020-01-13",
                                    "total_cases": "NULL",
                                    "new_cases": "0",
                                    "total_deaths": "NULL",
                                    "population": "41128772"
                                },
                                {
                                    "Location": "Afghanistan",
                                    "date": "2020-01-14",
                                    "total_cases": "NULL",
                                    "new_cases": "0",
                                    "total_deaths": "NULL",
                                    "population": "41128772"
                                },
                                {
                                    "Location": "Afghanistan",
                                    "date": "2020-01-15",
                                    "total_cases": "NULL",
                                    "new_cases": "0",
                                    "total_deaths": "NULL",
                                    "population": "41128772"
                                },
                                {
                                    "Location": "Afghanistan",
                                    "date": "2020-01-16",
                                    "total_cases": "NULL",
                                    "new_cases": "0",
                                    "total_deaths": "NULL",
                                    "population": "41128772"
                                },
                                {
                                    "Location": "Afghanistan",
                                    "date": "2020-01-17",
                                    "total_cases": "NULL",
                                    "new_cases": "0",
                                    "total_deaths": "NULL",
                                    "population": "41128772"
                                },
                                {
                                    "Location": "Afghanistan",
                                    "date": "2020-01-18",
                                    "total_cases": "NULL",
                                    "new_cases": "0",
                                    "total_deaths": "NULL",
                                    "population": "41128772"
                                },
                                {
                                    "Location": "Afghanistan",
                                    "date": "2020-01-19",
                                    "total_cases": "NULL",
                                    "new_cases": "0",
                                    "total_deaths": "NULL",
                                    "population": "41128772"
                                },
                                {
                                    "Location": "Afghanistan",
                                    "date": "2020-01-20",
                                    "total_cases": "NULL",
                                    "new_cases": "0",
                                    "total_deaths": "NULL",
                                    "population": "41128772"
                                },
                                {
                                    "Location": "Afghanistan",
                                    "date": "2020-01-21",
                                    "total_cases": "NULL",
                                    "new_cases": "0",
                                    "total_deaths": "NULL",
                                    "population": "41128772"
                                },
                                {
                                    "Location": "Afghanistan",
                                    "date": "2020-01-22",
                                    "total_cases": "NULL",
                                    "new_cases": "0",
                                    "total_deaths": "NULL",
                                    "population": "41128772"
                                },
                                {
                                    "Location": "Afghanistan",
                                    "date": "2020-01-23",
                                    "total_cases": "NULL",
                                    "new_cases": "0",
                                    "total_deaths": "NULL",
                                    "population": "41128772"
                                },
                                {
                                    "Location": "Afghanistan",
                                    "date": "2020-01-24",
                                    "total_cases": "NULL",
                                    "new_cases": "0",
                                    "total_deaths": "NULL",
                                    "population": "41128772"
                                },
                                {
                                    "Location": "Afghanistan",
                                    "date": "2020-01-25",
                                    "total_cases": "NULL",
                                    "new_cases": "0",
                                    "total_deaths": "NULL",
                                    "population": "41128772"
                                },
                                {
                                    "Location": "Afghanistan",
                                    "date": "2020-01-26",
                                    "total_cases": "NULL",
                                    "new_cases": "0",
                                    "total_deaths": "NULL",
                                    "population": "41128772"
                                },
                                {
                                    "Location": "Afghanistan",
                                    "date": "2020-01-27",
                                    "total_cases": "NULL",
                                    "new_cases": "0",
                                    "total_deaths": "NULL",
                                    "population": "41128772"
                                }
                            ]
                        },
                        "text/html": [
                            "<table>",
                            "<tr><th>Location</th><th>date</th><th>total_cases</th><th>new_cases</th><th>total_deaths</th><th>population</th></tr>",
                            "<tr><td>Afghanistan</td><td>2020-01-03</td><td>NULL</td><td>0</td><td>NULL</td><td>41128772</td></tr>",
                            "<tr><td>Afghanistan</td><td>2020-01-04</td><td>NULL</td><td>0</td><td>NULL</td><td>41128772</td></tr>",
                            "<tr><td>Afghanistan</td><td>2020-01-05</td><td>NULL</td><td>0</td><td>NULL</td><td>41128772</td></tr>",
                            "<tr><td>Afghanistan</td><td>2020-01-06</td><td>NULL</td><td>0</td><td>NULL</td><td>41128772</td></tr>",
                            "<tr><td>Afghanistan</td><td>2020-01-07</td><td>NULL</td><td>0</td><td>NULL</td><td>41128772</td></tr>",
                            "<tr><td>Afghanistan</td><td>2020-01-08</td><td>NULL</td><td>0</td><td>NULL</td><td>41128772</td></tr>",
                            "<tr><td>Afghanistan</td><td>2020-01-09</td><td>NULL</td><td>0</td><td>NULL</td><td>41128772</td></tr>",
                            "<tr><td>Afghanistan</td><td>2020-01-10</td><td>NULL</td><td>0</td><td>NULL</td><td>41128772</td></tr>",
                            "<tr><td>Afghanistan</td><td>2020-01-11</td><td>NULL</td><td>0</td><td>NULL</td><td>41128772</td></tr>",
                            "<tr><td>Afghanistan</td><td>2020-01-12</td><td>NULL</td><td>0</td><td>NULL</td><td>41128772</td></tr>",
                            "<tr><td>Afghanistan</td><td>2020-01-13</td><td>NULL</td><td>0</td><td>NULL</td><td>41128772</td></tr>",
                            "<tr><td>Afghanistan</td><td>2020-01-14</td><td>NULL</td><td>0</td><td>NULL</td><td>41128772</td></tr>",
                            "<tr><td>Afghanistan</td><td>2020-01-15</td><td>NULL</td><td>0</td><td>NULL</td><td>41128772</td></tr>",
                            "<tr><td>Afghanistan</td><td>2020-01-16</td><td>NULL</td><td>0</td><td>NULL</td><td>41128772</td></tr>",
                            "<tr><td>Afghanistan</td><td>2020-01-17</td><td>NULL</td><td>0</td><td>NULL</td><td>41128772</td></tr>",
                            "<tr><td>Afghanistan</td><td>2020-01-18</td><td>NULL</td><td>0</td><td>NULL</td><td>41128772</td></tr>",
                            "<tr><td>Afghanistan</td><td>2020-01-19</td><td>NULL</td><td>0</td><td>NULL</td><td>41128772</td></tr>",
                            "<tr><td>Afghanistan</td><td>2020-01-20</td><td>NULL</td><td>0</td><td>NULL</td><td>41128772</td></tr>",
                            "<tr><td>Afghanistan</td><td>2020-01-21</td><td>NULL</td><td>0</td><td>NULL</td><td>41128772</td></tr>",
                            "<tr><td>Afghanistan</td><td>2020-01-22</td><td>NULL</td><td>0</td><td>NULL</td><td>41128772</td></tr>",
                            "<tr><td>Afghanistan</td><td>2020-01-23</td><td>NULL</td><td>0</td><td>NULL</td><td>41128772</td></tr>",
                            "<tr><td>Afghanistan</td><td>2020-01-24</td><td>NULL</td><td>0</td><td>NULL</td><td>41128772</td></tr>",
                            "<tr><td>Afghanistan</td><td>2020-01-25</td><td>NULL</td><td>0</td><td>NULL</td><td>41128772</td></tr>",
                            "<tr><td>Afghanistan</td><td>2020-01-26</td><td>NULL</td><td>0</td><td>NULL</td><td>41128772</td></tr>",
                            "<tr><td>Afghanistan</td><td>2020-01-27</td><td>NULL</td><td>0</td><td>NULL</td><td>41128772</td></tr>",
                            "</table>"
                        ]
                    }
                }
            ],
            "execution_count": 14
        },
        {
            "cell_type": "markdown",
            "source": [
                "Looking at The Death Percentage Per Total Cases Over Time in the US"
            ],
            "metadata": {
                "azdata_cell_guid": "55eca31c-6256-4fef-bf9c-9dc55c7e193c"
            },
            "attachments": {}
        },
        {
            "cell_type": "code",
            "source": [
                "SELECT TOP 25\n",
                "    Location \n",
                "    ,continent\n",
                "    ,date \n",
                "    ,total_cases\n",
                "    ,total_deaths\n",
                "    ,(CAST(total_deaths AS DECIMAL)/CAST(total_cases AS DECIMAL)) * 100 AS percent_deaths_per_cases\n",
                "    ,population \n",
                "FROM CovidDeaths\n",
                "WHERE location LIKE '%states'\n",
                "    AND (CAST(total_deaths AS DECIMAL)/CAST(total_cases AS DECIMAL)) * 100 IS NOT NULL -- added for better viewing of limited tables\n",
                "ORDER BY date asc;"
            ],
            "metadata": {
                "azdata_cell_guid": "74597b0a-5dcd-43be-bb41-fcb65d345f3e",
                "language": "sql",
                "tags": []
            },
            "outputs": [
                {
                    "output_type": "display_data",
                    "data": {
                        "text/html": "(25 rows affected)"
                    },
                    "metadata": {}
                },
                {
                    "output_type": "display_data",
                    "data": {
                        "text/html": "Total execution time: 00:00:00.157"
                    },
                    "metadata": {}
                },
                {
                    "output_type": "execute_result",
                    "metadata": {},
                    "execution_count": 15,
                    "data": {
                        "application/vnd.dataresource+json": {
                            "schema": {
                                "fields": [
                                    {
                                        "name": "Location"
                                    },
                                    {
                                        "name": "continent"
                                    },
                                    {
                                        "name": "date"
                                    },
                                    {
                                        "name": "total_cases"
                                    },
                                    {
                                        "name": "total_deaths"
                                    },
                                    {
                                        "name": "percent_deaths_per_cases"
                                    },
                                    {
                                        "name": "population"
                                    }
                                ]
                            },
                            "data": [
                                {
                                    "Location": "United States",
                                    "continent": "North America",
                                    "date": "2020-02-29",
                                    "total_cases": "69",
                                    "total_deaths": "1",
                                    "percent_deaths_per_cases": "1.4492753623188406",
                                    "population": "338289856"
                                },
                                {
                                    "Location": "United States",
                                    "continent": "North America",
                                    "date": "2020-03-01",
                                    "total_cases": "73",
                                    "total_deaths": "1",
                                    "percent_deaths_per_cases": "1.3698630136986301",
                                    "population": "338289856"
                                },
                                {
                                    "Location": "United States",
                                    "continent": "North America",
                                    "date": "2020-03-02",
                                    "total_cases": "82",
                                    "total_deaths": "2",
                                    "percent_deaths_per_cases": "2.4390243902439024",
                                    "population": "338289856"
                                },
                                {
                                    "Location": "United States",
                                    "continent": "North America",
                                    "date": "2020-03-03",
                                    "total_cases": "100",
                                    "total_deaths": "2",
                                    "percent_deaths_per_cases": "2.0000000000000000",
                                    "population": "338289856"
                                },
                                {
                                    "Location": "United States",
                                    "continent": "North America",
                                    "date": "2020-03-04",
                                    "total_cases": "135",
                                    "total_deaths": "8",
                                    "percent_deaths_per_cases": "5.9259259259259259",
                                    "population": "338289856"
                                },
                                {
                                    "Location": "United States",
                                    "continent": "North America",
                                    "date": "2020-03-05",
                                    "total_cases": "186",
                                    "total_deaths": "11",
                                    "percent_deaths_per_cases": "5.9139784946236559",
                                    "population": "338289856"
                                },
                                {
                                    "Location": "United States",
                                    "continent": "North America",
                                    "date": "2020-03-06",
                                    "total_cases": "256",
                                    "total_deaths": "13",
                                    "percent_deaths_per_cases": "5.0781250000000000",
                                    "population": "338289856"
                                },
                                {
                                    "Location": "United States",
                                    "continent": "North America",
                                    "date": "2020-03-07",
                                    "total_cases": "334",
                                    "total_deaths": "16",
                                    "percent_deaths_per_cases": "4.7904191616766467",
                                    "population": "338289856"
                                },
                                {
                                    "Location": "United States",
                                    "continent": "North America",
                                    "date": "2020-03-08",
                                    "total_cases": "464",
                                    "total_deaths": "19",
                                    "percent_deaths_per_cases": "4.0948275862068966",
                                    "population": "338289856"
                                },
                                {
                                    "Location": "United States",
                                    "continent": "North America",
                                    "date": "2020-03-09",
                                    "total_cases": "610",
                                    "total_deaths": "24",
                                    "percent_deaths_per_cases": "3.9344262295081967",
                                    "population": "338289856"
                                },
                                {
                                    "Location": "United States",
                                    "continent": "North America",
                                    "date": "2020-03-10",
                                    "total_cases": "822",
                                    "total_deaths": "28",
                                    "percent_deaths_per_cases": "3.4063260340632603",
                                    "population": "338289856"
                                },
                                {
                                    "Location": "United States",
                                    "continent": "North America",
                                    "date": "2020-03-11",
                                    "total_cases": "1212",
                                    "total_deaths": "32",
                                    "percent_deaths_per_cases": "2.6402640264026403",
                                    "population": "338289856"
                                },
                                {
                                    "Location": "United States",
                                    "continent": "North America",
                                    "date": "2020-03-12",
                                    "total_cases": "1709",
                                    "total_deaths": "39",
                                    "percent_deaths_per_cases": "2.2820362785254535",
                                    "population": "338289856"
                                },
                                {
                                    "Location": "United States",
                                    "continent": "North America",
                                    "date": "2020-03-13",
                                    "total_cases": "2234",
                                    "total_deaths": "51",
                                    "percent_deaths_per_cases": "2.2829006266786034",
                                    "population": "338289856"
                                },
                                {
                                    "Location": "United States",
                                    "continent": "North America",
                                    "date": "2020-03-14",
                                    "total_cases": "2961",
                                    "total_deaths": "58",
                                    "percent_deaths_per_cases": "1.9587977034785545",
                                    "population": "338289856"
                                },
                                {
                                    "Location": "United States",
                                    "continent": "North America",
                                    "date": "2020-03-15",
                                    "total_cases": "3929",
                                    "total_deaths": "69",
                                    "percent_deaths_per_cases": "1.7561720539577501",
                                    "population": "338289856"
                                },
                                {
                                    "Location": "United States",
                                    "continent": "North America",
                                    "date": "2020-03-16",
                                    "total_cases": "5148",
                                    "total_deaths": "82",
                                    "percent_deaths_per_cases": "1.5928515928515929",
                                    "population": "338289856"
                                },
                                {
                                    "Location": "United States",
                                    "continent": "North America",
                                    "date": "2020-03-17",
                                    "total_cases": "7283",
                                    "total_deaths": "100",
                                    "percent_deaths_per_cases": "1.3730605519703419",
                                    "population": "338289856"
                                },
                                {
                                    "Location": "United States",
                                    "continent": "North America",
                                    "date": "2020-03-18",
                                    "total_cases": "9652",
                                    "total_deaths": "121",
                                    "percent_deaths_per_cases": "1.2536261914629092",
                                    "population": "338289856"
                                },
                                {
                                    "Location": "United States",
                                    "continent": "North America",
                                    "date": "2020-03-19",
                                    "total_cases": "12881",
                                    "total_deaths": "149",
                                    "percent_deaths_per_cases": "1.1567424889371943",
                                    "population": "338289856"
                                },
                                {
                                    "Location": "United States",
                                    "continent": "North America",
                                    "date": "2020-03-20",
                                    "total_cases": "17743",
                                    "total_deaths": "213",
                                    "percent_deaths_per_cases": "1.2004734261398862",
                                    "population": "338289856"
                                },
                                {
                                    "Location": "United States",
                                    "continent": "North America",
                                    "date": "2020-03-21",
                                    "total_cases": "23856",
                                    "total_deaths": "282",
                                    "percent_deaths_per_cases": "1.1820925553319920",
                                    "population": "338289856"
                                },
                                {
                                    "Location": "United States",
                                    "continent": "North America",
                                    "date": "2020-03-22",
                                    "total_cases": "31415",
                                    "total_deaths": "374",
                                    "percent_deaths_per_cases": "1.1905140856278848",
                                    "population": "338289856"
                                },
                                {
                                    "Location": "United States",
                                    "continent": "North America",
                                    "date": "2020-03-23",
                                    "total_cases": "40525",
                                    "total_deaths": "486",
                                    "percent_deaths_per_cases": "1.1992597162245527",
                                    "population": "338289856"
                                },
                                {
                                    "Location": "United States",
                                    "continent": "North America",
                                    "date": "2020-03-24",
                                    "total_cases": "51290",
                                    "total_deaths": "604",
                                    "percent_deaths_per_cases": "1.1776174692922597",
                                    "population": "338289856"
                                }
                            ]
                        },
                        "text/html": [
                            "<table>",
                            "<tr><th>Location</th><th>continent</th><th>date</th><th>total_cases</th><th>total_deaths</th><th>percent_deaths_per_cases</th><th>population</th></tr>",
                            "<tr><td>United States</td><td>North America</td><td>2020-02-29</td><td>69</td><td>1</td><td>1.4492753623188406</td><td>338289856</td></tr>",
                            "<tr><td>United States</td><td>North America</td><td>2020-03-01</td><td>73</td><td>1</td><td>1.3698630136986301</td><td>338289856</td></tr>",
                            "<tr><td>United States</td><td>North America</td><td>2020-03-02</td><td>82</td><td>2</td><td>2.4390243902439024</td><td>338289856</td></tr>",
                            "<tr><td>United States</td><td>North America</td><td>2020-03-03</td><td>100</td><td>2</td><td>2.0000000000000000</td><td>338289856</td></tr>",
                            "<tr><td>United States</td><td>North America</td><td>2020-03-04</td><td>135</td><td>8</td><td>5.9259259259259259</td><td>338289856</td></tr>",
                            "<tr><td>United States</td><td>North America</td><td>2020-03-05</td><td>186</td><td>11</td><td>5.9139784946236559</td><td>338289856</td></tr>",
                            "<tr><td>United States</td><td>North America</td><td>2020-03-06</td><td>256</td><td>13</td><td>5.0781250000000000</td><td>338289856</td></tr>",
                            "<tr><td>United States</td><td>North America</td><td>2020-03-07</td><td>334</td><td>16</td><td>4.7904191616766467</td><td>338289856</td></tr>",
                            "<tr><td>United States</td><td>North America</td><td>2020-03-08</td><td>464</td><td>19</td><td>4.0948275862068966</td><td>338289856</td></tr>",
                            "<tr><td>United States</td><td>North America</td><td>2020-03-09</td><td>610</td><td>24</td><td>3.9344262295081967</td><td>338289856</td></tr>",
                            "<tr><td>United States</td><td>North America</td><td>2020-03-10</td><td>822</td><td>28</td><td>3.4063260340632603</td><td>338289856</td></tr>",
                            "<tr><td>United States</td><td>North America</td><td>2020-03-11</td><td>1212</td><td>32</td><td>2.6402640264026403</td><td>338289856</td></tr>",
                            "<tr><td>United States</td><td>North America</td><td>2020-03-12</td><td>1709</td><td>39</td><td>2.2820362785254535</td><td>338289856</td></tr>",
                            "<tr><td>United States</td><td>North America</td><td>2020-03-13</td><td>2234</td><td>51</td><td>2.2829006266786034</td><td>338289856</td></tr>",
                            "<tr><td>United States</td><td>North America</td><td>2020-03-14</td><td>2961</td><td>58</td><td>1.9587977034785545</td><td>338289856</td></tr>",
                            "<tr><td>United States</td><td>North America</td><td>2020-03-15</td><td>3929</td><td>69</td><td>1.7561720539577501</td><td>338289856</td></tr>",
                            "<tr><td>United States</td><td>North America</td><td>2020-03-16</td><td>5148</td><td>82</td><td>1.5928515928515929</td><td>338289856</td></tr>",
                            "<tr><td>United States</td><td>North America</td><td>2020-03-17</td><td>7283</td><td>100</td><td>1.3730605519703419</td><td>338289856</td></tr>",
                            "<tr><td>United States</td><td>North America</td><td>2020-03-18</td><td>9652</td><td>121</td><td>1.2536261914629092</td><td>338289856</td></tr>",
                            "<tr><td>United States</td><td>North America</td><td>2020-03-19</td><td>12881</td><td>149</td><td>1.1567424889371943</td><td>338289856</td></tr>",
                            "<tr><td>United States</td><td>North America</td><td>2020-03-20</td><td>17743</td><td>213</td><td>1.2004734261398862</td><td>338289856</td></tr>",
                            "<tr><td>United States</td><td>North America</td><td>2020-03-21</td><td>23856</td><td>282</td><td>1.1820925553319920</td><td>338289856</td></tr>",
                            "<tr><td>United States</td><td>North America</td><td>2020-03-22</td><td>31415</td><td>374</td><td>1.1905140856278848</td><td>338289856</td></tr>",
                            "<tr><td>United States</td><td>North America</td><td>2020-03-23</td><td>40525</td><td>486</td><td>1.1992597162245527</td><td>338289856</td></tr>",
                            "<tr><td>United States</td><td>North America</td><td>2020-03-24</td><td>51290</td><td>604</td><td>1.1776174692922597</td><td>338289856</td></tr>",
                            "</table>"
                        ]
                    }
                }
            ],
            "execution_count": 15
        },
        {
            "cell_type": "markdown",
            "source": [
                "Looking at Total Cases vs Population Over Time in US"
            ],
            "metadata": {
                "azdata_cell_guid": "73e422b0-2084-4bd4-ad73-e49e13e750c4"
            },
            "attachments": {}
        },
        {
            "cell_type": "code",
            "source": [
                "SELECT TOP 25\n",
                "    Location \n",
                "    ,continent\n",
                "    ,date \n",
                "    ,total_cases\n",
                "    ,population\n",
                "    ,(CAST(total_cases AS DECIMAL)/CAST(population AS DECIMAL)) * 100 AS contracted_percentage -- percent of population that contracted COVID\n",
                "FROM CovidDeaths\n",
                "WHERE location LIKE '%states'\n",
                "--WHERE continent IS NOT NULL\n",
                "ORDER BY date;"
            ],
            "metadata": {
                "azdata_cell_guid": "37e2ea19-304b-4c49-959e-a343920fd8d9",
                "language": "sql",
                "tags": []
            },
            "outputs": [
                {
                    "output_type": "display_data",
                    "data": {
                        "text/html": "(25 rows affected)"
                    },
                    "metadata": {}
                },
                {
                    "output_type": "display_data",
                    "data": {
                        "text/html": "Total execution time: 00:00:00.165"
                    },
                    "metadata": {}
                },
                {
                    "output_type": "execute_result",
                    "metadata": {},
                    "execution_count": 16,
                    "data": {
                        "application/vnd.dataresource+json": {
                            "schema": {
                                "fields": [
                                    {
                                        "name": "Location"
                                    },
                                    {
                                        "name": "continent"
                                    },
                                    {
                                        "name": "date"
                                    },
                                    {
                                        "name": "total_cases"
                                    },
                                    {
                                        "name": "population"
                                    },
                                    {
                                        "name": "contracted_percentage"
                                    }
                                ]
                            },
                            "data": [
                                {
                                    "Location": "United States",
                                    "continent": "North America",
                                    "date": "2020-01-03",
                                    "total_cases": "NULL",
                                    "population": "338289856",
                                    "contracted_percentage": "NULL"
                                },
                                {
                                    "Location": "United States",
                                    "continent": "North America",
                                    "date": "2020-01-04",
                                    "total_cases": "NULL",
                                    "population": "338289856",
                                    "contracted_percentage": "NULL"
                                },
                                {
                                    "Location": "United States",
                                    "continent": "North America",
                                    "date": "2020-01-05",
                                    "total_cases": "NULL",
                                    "population": "338289856",
                                    "contracted_percentage": "NULL"
                                },
                                {
                                    "Location": "United States",
                                    "continent": "North America",
                                    "date": "2020-01-06",
                                    "total_cases": "NULL",
                                    "population": "338289856",
                                    "contracted_percentage": "NULL"
                                },
                                {
                                    "Location": "United States",
                                    "continent": "North America",
                                    "date": "2020-01-07",
                                    "total_cases": "NULL",
                                    "population": "338289856",
                                    "contracted_percentage": "NULL"
                                },
                                {
                                    "Location": "United States",
                                    "continent": "North America",
                                    "date": "2020-01-08",
                                    "total_cases": "NULL",
                                    "population": "338289856",
                                    "contracted_percentage": "NULL"
                                },
                                {
                                    "Location": "United States",
                                    "continent": "North America",
                                    "date": "2020-01-09",
                                    "total_cases": "NULL",
                                    "population": "338289856",
                                    "contracted_percentage": "NULL"
                                },
                                {
                                    "Location": "United States",
                                    "continent": "North America",
                                    "date": "2020-01-10",
                                    "total_cases": "NULL",
                                    "population": "338289856",
                                    "contracted_percentage": "NULL"
                                },
                                {
                                    "Location": "United States",
                                    "continent": "North America",
                                    "date": "2020-01-11",
                                    "total_cases": "NULL",
                                    "population": "338289856",
                                    "contracted_percentage": "NULL"
                                },
                                {
                                    "Location": "United States",
                                    "continent": "North America",
                                    "date": "2020-01-12",
                                    "total_cases": "NULL",
                                    "population": "338289856",
                                    "contracted_percentage": "NULL"
                                },
                                {
                                    "Location": "United States",
                                    "continent": "North America",
                                    "date": "2020-01-13",
                                    "total_cases": "NULL",
                                    "population": "338289856",
                                    "contracted_percentage": "NULL"
                                },
                                {
                                    "Location": "United States",
                                    "continent": "North America",
                                    "date": "2020-01-14",
                                    "total_cases": "NULL",
                                    "population": "338289856",
                                    "contracted_percentage": "NULL"
                                },
                                {
                                    "Location": "United States",
                                    "continent": "North America",
                                    "date": "2020-01-15",
                                    "total_cases": "NULL",
                                    "population": "338289856",
                                    "contracted_percentage": "NULL"
                                },
                                {
                                    "Location": "United States",
                                    "continent": "North America",
                                    "date": "2020-01-16",
                                    "total_cases": "NULL",
                                    "population": "338289856",
                                    "contracted_percentage": "NULL"
                                },
                                {
                                    "Location": "United States",
                                    "continent": "North America",
                                    "date": "2020-01-17",
                                    "total_cases": "NULL",
                                    "population": "338289856",
                                    "contracted_percentage": "NULL"
                                },
                                {
                                    "Location": "United States",
                                    "continent": "North America",
                                    "date": "2020-01-18",
                                    "total_cases": "NULL",
                                    "population": "338289856",
                                    "contracted_percentage": "NULL"
                                },
                                {
                                    "Location": "United States",
                                    "continent": "North America",
                                    "date": "2020-01-19",
                                    "total_cases": "NULL",
                                    "population": "338289856",
                                    "contracted_percentage": "NULL"
                                },
                                {
                                    "Location": "United States",
                                    "continent": "North America",
                                    "date": "2020-01-20",
                                    "total_cases": "1",
                                    "population": "338289856",
                                    "contracted_percentage": "0.0000002956044890"
                                },
                                {
                                    "Location": "United States",
                                    "continent": "North America",
                                    "date": "2020-01-21",
                                    "total_cases": "1",
                                    "population": "338289856",
                                    "contracted_percentage": "0.0000002956044890"
                                },
                                {
                                    "Location": "United States",
                                    "continent": "North America",
                                    "date": "2020-01-22",
                                    "total_cases": "1",
                                    "population": "338289856",
                                    "contracted_percentage": "0.0000002956044890"
                                },
                                {
                                    "Location": "United States",
                                    "continent": "North America",
                                    "date": "2020-01-23",
                                    "total_cases": "1",
                                    "population": "338289856",
                                    "contracted_percentage": "0.0000002956044890"
                                },
                                {
                                    "Location": "United States",
                                    "continent": "North America",
                                    "date": "2020-01-24",
                                    "total_cases": "1",
                                    "population": "338289856",
                                    "contracted_percentage": "0.0000002956044890"
                                },
                                {
                                    "Location": "United States",
                                    "continent": "North America",
                                    "date": "2020-01-25",
                                    "total_cases": "6",
                                    "population": "338289856",
                                    "contracted_percentage": "0.0000017736269337"
                                },
                                {
                                    "Location": "United States",
                                    "continent": "North America",
                                    "date": "2020-01-26",
                                    "total_cases": "7",
                                    "population": "338289856",
                                    "contracted_percentage": "0.0000020692314227"
                                },
                                {
                                    "Location": "United States",
                                    "continent": "North America",
                                    "date": "2020-01-27",
                                    "total_cases": "7",
                                    "population": "338289856",
                                    "contracted_percentage": "0.0000020692314227"
                                }
                            ]
                        },
                        "text/html": [
                            "<table>",
                            "<tr><th>Location</th><th>continent</th><th>date</th><th>total_cases</th><th>population</th><th>contracted_percentage</th></tr>",
                            "<tr><td>United States</td><td>North America</td><td>2020-01-03</td><td>NULL</td><td>338289856</td><td>NULL</td></tr>",
                            "<tr><td>United States</td><td>North America</td><td>2020-01-04</td><td>NULL</td><td>338289856</td><td>NULL</td></tr>",
                            "<tr><td>United States</td><td>North America</td><td>2020-01-05</td><td>NULL</td><td>338289856</td><td>NULL</td></tr>",
                            "<tr><td>United States</td><td>North America</td><td>2020-01-06</td><td>NULL</td><td>338289856</td><td>NULL</td></tr>",
                            "<tr><td>United States</td><td>North America</td><td>2020-01-07</td><td>NULL</td><td>338289856</td><td>NULL</td></tr>",
                            "<tr><td>United States</td><td>North America</td><td>2020-01-08</td><td>NULL</td><td>338289856</td><td>NULL</td></tr>",
                            "<tr><td>United States</td><td>North America</td><td>2020-01-09</td><td>NULL</td><td>338289856</td><td>NULL</td></tr>",
                            "<tr><td>United States</td><td>North America</td><td>2020-01-10</td><td>NULL</td><td>338289856</td><td>NULL</td></tr>",
                            "<tr><td>United States</td><td>North America</td><td>2020-01-11</td><td>NULL</td><td>338289856</td><td>NULL</td></tr>",
                            "<tr><td>United States</td><td>North America</td><td>2020-01-12</td><td>NULL</td><td>338289856</td><td>NULL</td></tr>",
                            "<tr><td>United States</td><td>North America</td><td>2020-01-13</td><td>NULL</td><td>338289856</td><td>NULL</td></tr>",
                            "<tr><td>United States</td><td>North America</td><td>2020-01-14</td><td>NULL</td><td>338289856</td><td>NULL</td></tr>",
                            "<tr><td>United States</td><td>North America</td><td>2020-01-15</td><td>NULL</td><td>338289856</td><td>NULL</td></tr>",
                            "<tr><td>United States</td><td>North America</td><td>2020-01-16</td><td>NULL</td><td>338289856</td><td>NULL</td></tr>",
                            "<tr><td>United States</td><td>North America</td><td>2020-01-17</td><td>NULL</td><td>338289856</td><td>NULL</td></tr>",
                            "<tr><td>United States</td><td>North America</td><td>2020-01-18</td><td>NULL</td><td>338289856</td><td>NULL</td></tr>",
                            "<tr><td>United States</td><td>North America</td><td>2020-01-19</td><td>NULL</td><td>338289856</td><td>NULL</td></tr>",
                            "<tr><td>United States</td><td>North America</td><td>2020-01-20</td><td>1</td><td>338289856</td><td>0.0000002956044890</td></tr>",
                            "<tr><td>United States</td><td>North America</td><td>2020-01-21</td><td>1</td><td>338289856</td><td>0.0000002956044890</td></tr>",
                            "<tr><td>United States</td><td>North America</td><td>2020-01-22</td><td>1</td><td>338289856</td><td>0.0000002956044890</td></tr>",
                            "<tr><td>United States</td><td>North America</td><td>2020-01-23</td><td>1</td><td>338289856</td><td>0.0000002956044890</td></tr>",
                            "<tr><td>United States</td><td>North America</td><td>2020-01-24</td><td>1</td><td>338289856</td><td>0.0000002956044890</td></tr>",
                            "<tr><td>United States</td><td>North America</td><td>2020-01-25</td><td>6</td><td>338289856</td><td>0.0000017736269337</td></tr>",
                            "<tr><td>United States</td><td>North America</td><td>2020-01-26</td><td>7</td><td>338289856</td><td>0.0000020692314227</td></tr>",
                            "<tr><td>United States</td><td>North America</td><td>2020-01-27</td><td>7</td><td>338289856</td><td>0.0000020692314227</td></tr>",
                            "</table>"
                        ]
                    }
                }
            ],
            "execution_count": 16
        },
        {
            "cell_type": "markdown",
            "source": [
                "Infection Rates Over Time for 5 Most Populous Countries"
            ],
            "metadata": {
                "language": "sql",
                "azdata_cell_guid": "526c9e39-3b5d-4d22-9029-cc1927e021b1"
            },
            "attachments": {}
        },
        {
            "cell_type": "code",
            "source": [
                "SELECT TOP 25\n",
                "    Location \n",
                "    ,continent\n",
                "    ,date \n",
                "    ,total_cases\n",
                "    ,population\n",
                "    ,(CAST(total_cases AS DECIMAL)/CAST(population AS DECIMAL)) * 100 AS contracted_percentage -- percent of population that contracted COVID \n",
                "FROM CovidDeaths\n",
                "WHERE Location IN\n",
                "(SELECT TOP 5 \n",
                "    Location \n",
                "    FROM CovidDeaths\n",
                "    WHERE continent IS NOT NULL\n",
                "    GROUP BY Location, population\n",
                "    ORDER BY CAST(population AS NUMERIC) desc)\n",
                "ORDER BY CAST(population AS NUMERIC) desc, location, date;"
            ],
            "metadata": {
                "azdata_cell_guid": "ca2ac256-87d8-4eb9-bf5f-f1196ce9f91d",
                "language": "sql",
                "tags": []
            },
            "outputs": [
                {
                    "output_type": "display_data",
                    "data": {
                        "text/html": "(25 rows affected)"
                    },
                    "metadata": {}
                },
                {
                    "output_type": "display_data",
                    "data": {
                        "text/html": "Total execution time: 00:00:00.191"
                    },
                    "metadata": {}
                },
                {
                    "output_type": "execute_result",
                    "metadata": {},
                    "execution_count": 17,
                    "data": {
                        "application/vnd.dataresource+json": {
                            "schema": {
                                "fields": [
                                    {
                                        "name": "Location"
                                    },
                                    {
                                        "name": "continent"
                                    },
                                    {
                                        "name": "date"
                                    },
                                    {
                                        "name": "total_cases"
                                    },
                                    {
                                        "name": "population"
                                    },
                                    {
                                        "name": "contracted_percentage"
                                    }
                                ]
                            },
                            "data": [
                                {
                                    "Location": "China",
                                    "continent": "Asia",
                                    "date": "2020-01-03",
                                    "total_cases": "NULL",
                                    "population": "1425887360",
                                    "contracted_percentage": "NULL"
                                },
                                {
                                    "Location": "China",
                                    "continent": "Asia",
                                    "date": "2020-01-04",
                                    "total_cases": "1",
                                    "population": "1425887360",
                                    "contracted_percentage": "0.0000000701317669"
                                },
                                {
                                    "Location": "China",
                                    "continent": "Asia",
                                    "date": "2020-01-05",
                                    "total_cases": "1",
                                    "population": "1425887360",
                                    "contracted_percentage": "0.0000000701317669"
                                },
                                {
                                    "Location": "China",
                                    "continent": "Asia",
                                    "date": "2020-01-06",
                                    "total_cases": "4",
                                    "population": "1425887360",
                                    "contracted_percentage": "0.0000002805270677"
                                },
                                {
                                    "Location": "China",
                                    "continent": "Asia",
                                    "date": "2020-01-07",
                                    "total_cases": "4",
                                    "population": "1425887360",
                                    "contracted_percentage": "0.0000002805270677"
                                },
                                {
                                    "Location": "China",
                                    "continent": "Asia",
                                    "date": "2020-01-08",
                                    "total_cases": "4",
                                    "population": "1425887360",
                                    "contracted_percentage": "0.0000002805270677"
                                },
                                {
                                    "Location": "China",
                                    "continent": "Asia",
                                    "date": "2020-01-09",
                                    "total_cases": "4",
                                    "population": "1425887360",
                                    "contracted_percentage": "0.0000002805270677"
                                },
                                {
                                    "Location": "China",
                                    "continent": "Asia",
                                    "date": "2020-01-10",
                                    "total_cases": "4",
                                    "population": "1425887360",
                                    "contracted_percentage": "0.0000002805270677"
                                },
                                {
                                    "Location": "China",
                                    "continent": "Asia",
                                    "date": "2020-01-11",
                                    "total_cases": "4",
                                    "population": "1425887360",
                                    "contracted_percentage": "0.0000002805270677"
                                },
                                {
                                    "Location": "China",
                                    "continent": "Asia",
                                    "date": "2020-01-12",
                                    "total_cases": "45",
                                    "population": "1425887360",
                                    "contracted_percentage": "0.0000031559295119"
                                },
                                {
                                    "Location": "China",
                                    "continent": "Asia",
                                    "date": "2020-01-13",
                                    "total_cases": "45",
                                    "population": "1425887360",
                                    "contracted_percentage": "0.0000031559295119"
                                },
                                {
                                    "Location": "China",
                                    "continent": "Asia",
                                    "date": "2020-01-14",
                                    "total_cases": "45",
                                    "population": "1425887360",
                                    "contracted_percentage": "0.0000031559295119"
                                },
                                {
                                    "Location": "China",
                                    "continent": "Asia",
                                    "date": "2020-01-15",
                                    "total_cases": "45",
                                    "population": "1425887360",
                                    "contracted_percentage": "0.0000031559295119"
                                },
                                {
                                    "Location": "China",
                                    "continent": "Asia",
                                    "date": "2020-01-16",
                                    "total_cases": "45",
                                    "population": "1425887360",
                                    "contracted_percentage": "0.0000031559295119"
                                },
                                {
                                    "Location": "China",
                                    "continent": "Asia",
                                    "date": "2020-01-17",
                                    "total_cases": "49",
                                    "population": "1425887360",
                                    "contracted_percentage": "0.0000034364565796"
                                },
                                {
                                    "Location": "China",
                                    "continent": "Asia",
                                    "date": "2020-01-18",
                                    "total_cases": "49",
                                    "population": "1425887360",
                                    "contracted_percentage": "0.0000034364565796"
                                },
                                {
                                    "Location": "China",
                                    "continent": "Asia",
                                    "date": "2020-01-19",
                                    "total_cases": "125",
                                    "population": "1425887360",
                                    "contracted_percentage": "0.0000087664708663"
                                },
                                {
                                    "Location": "China",
                                    "continent": "Asia",
                                    "date": "2020-01-20",
                                    "total_cases": "202",
                                    "population": "1425887360",
                                    "contracted_percentage": "0.0000141666169199"
                                },
                                {
                                    "Location": "China",
                                    "continent": "Asia",
                                    "date": "2020-01-21",
                                    "total_cases": "295",
                                    "population": "1425887360",
                                    "contracted_percentage": "0.0000206888712444"
                                },
                                {
                                    "Location": "China",
                                    "continent": "Asia",
                                    "date": "2020-01-22",
                                    "total_cases": "442",
                                    "population": "1425887360",
                                    "contracted_percentage": "0.0000309982409831"
                                },
                                {
                                    "Location": "China",
                                    "continent": "Asia",
                                    "date": "2020-01-23",
                                    "total_cases": "574",
                                    "population": "1425887360",
                                    "contracted_percentage": "0.0000402556342178"
                                },
                                {
                                    "Location": "China",
                                    "continent": "Asia",
                                    "date": "2020-01-24",
                                    "total_cases": "835",
                                    "population": "1425887360",
                                    "contracted_percentage": "0.0000585600253866"
                                },
                                {
                                    "Location": "China",
                                    "continent": "Asia",
                                    "date": "2020-01-25",
                                    "total_cases": "1297",
                                    "population": "1425887360",
                                    "contracted_percentage": "0.0000909609017083"
                                },
                                {
                                    "Location": "China",
                                    "continent": "Asia",
                                    "date": "2020-01-26",
                                    "total_cases": "1985",
                                    "population": "1425887360",
                                    "contracted_percentage": "0.0001392115573561"
                                },
                                {
                                    "Location": "China",
                                    "continent": "Asia",
                                    "date": "2020-01-27",
                                    "total_cases": "2761",
                                    "population": "1425887360",
                                    "contracted_percentage": "0.0001936338084938"
                                }
                            ]
                        },
                        "text/html": [
                            "<table>",
                            "<tr><th>Location</th><th>continent</th><th>date</th><th>total_cases</th><th>population</th><th>contracted_percentage</th></tr>",
                            "<tr><td>China</td><td>Asia</td><td>2020-01-03</td><td>NULL</td><td>1425887360</td><td>NULL</td></tr>",
                            "<tr><td>China</td><td>Asia</td><td>2020-01-04</td><td>1</td><td>1425887360</td><td>0.0000000701317669</td></tr>",
                            "<tr><td>China</td><td>Asia</td><td>2020-01-05</td><td>1</td><td>1425887360</td><td>0.0000000701317669</td></tr>",
                            "<tr><td>China</td><td>Asia</td><td>2020-01-06</td><td>4</td><td>1425887360</td><td>0.0000002805270677</td></tr>",
                            "<tr><td>China</td><td>Asia</td><td>2020-01-07</td><td>4</td><td>1425887360</td><td>0.0000002805270677</td></tr>",
                            "<tr><td>China</td><td>Asia</td><td>2020-01-08</td><td>4</td><td>1425887360</td><td>0.0000002805270677</td></tr>",
                            "<tr><td>China</td><td>Asia</td><td>2020-01-09</td><td>4</td><td>1425887360</td><td>0.0000002805270677</td></tr>",
                            "<tr><td>China</td><td>Asia</td><td>2020-01-10</td><td>4</td><td>1425887360</td><td>0.0000002805270677</td></tr>",
                            "<tr><td>China</td><td>Asia</td><td>2020-01-11</td><td>4</td><td>1425887360</td><td>0.0000002805270677</td></tr>",
                            "<tr><td>China</td><td>Asia</td><td>2020-01-12</td><td>45</td><td>1425887360</td><td>0.0000031559295119</td></tr>",
                            "<tr><td>China</td><td>Asia</td><td>2020-01-13</td><td>45</td><td>1425887360</td><td>0.0000031559295119</td></tr>",
                            "<tr><td>China</td><td>Asia</td><td>2020-01-14</td><td>45</td><td>1425887360</td><td>0.0000031559295119</td></tr>",
                            "<tr><td>China</td><td>Asia</td><td>2020-01-15</td><td>45</td><td>1425887360</td><td>0.0000031559295119</td></tr>",
                            "<tr><td>China</td><td>Asia</td><td>2020-01-16</td><td>45</td><td>1425887360</td><td>0.0000031559295119</td></tr>",
                            "<tr><td>China</td><td>Asia</td><td>2020-01-17</td><td>49</td><td>1425887360</td><td>0.0000034364565796</td></tr>",
                            "<tr><td>China</td><td>Asia</td><td>2020-01-18</td><td>49</td><td>1425887360</td><td>0.0000034364565796</td></tr>",
                            "<tr><td>China</td><td>Asia</td><td>2020-01-19</td><td>125</td><td>1425887360</td><td>0.0000087664708663</td></tr>",
                            "<tr><td>China</td><td>Asia</td><td>2020-01-20</td><td>202</td><td>1425887360</td><td>0.0000141666169199</td></tr>",
                            "<tr><td>China</td><td>Asia</td><td>2020-01-21</td><td>295</td><td>1425887360</td><td>0.0000206888712444</td></tr>",
                            "<tr><td>China</td><td>Asia</td><td>2020-01-22</td><td>442</td><td>1425887360</td><td>0.0000309982409831</td></tr>",
                            "<tr><td>China</td><td>Asia</td><td>2020-01-23</td><td>574</td><td>1425887360</td><td>0.0000402556342178</td></tr>",
                            "<tr><td>China</td><td>Asia</td><td>2020-01-24</td><td>835</td><td>1425887360</td><td>0.0000585600253866</td></tr>",
                            "<tr><td>China</td><td>Asia</td><td>2020-01-25</td><td>1297</td><td>1425887360</td><td>0.0000909609017083</td></tr>",
                            "<tr><td>China</td><td>Asia</td><td>2020-01-26</td><td>1985</td><td>1425887360</td><td>0.0001392115573561</td></tr>",
                            "<tr><td>China</td><td>Asia</td><td>2020-01-27</td><td>2761</td><td>1425887360</td><td>0.0001936338084938</td></tr>",
                            "</table>"
                        ]
                    }
                }
            ],
            "execution_count": 17
        },
        {
            "cell_type": "markdown",
            "source": [
                "Countries with the Highest Infection Rates compared to Population"
            ],
            "metadata": {
                "azdata_cell_guid": "fd354a0e-a7c1-4953-9470-0f1856565476"
            },
            "attachments": {}
        },
        {
            "cell_type": "code",
            "source": [
                "SELECT TOP 25\n",
                "    Location \n",
                "    ,continent\n",
                "    ,MAX(total_cases) AS max_infection_count\n",
                "    ,population\n",
                "    ,(CAST(MAX(total_cases) AS DECIMAL)/CAST(population AS DECIMAL)) * 100 AS percent_population_infected -- percent of population that contracted COVID\n",
                "FROM CovidDeaths\n",
                "--WHERE date <= '04-30-2021'\n",
                "WHERE continent IS NOT NULL\n",
                "GROUP BY Location, continent, population\n",
                "ORDER BY percent_population_infected desc;"
            ],
            "metadata": {
                "azdata_cell_guid": "9ab77c6b-0456-40cd-9aab-6c55ebc793c5",
                "language": "sql"
            },
            "outputs": [
                {
                    "output_type": "display_data",
                    "data": {
                        "text/html": "Warning: Null value is eliminated by an aggregate or other SET operation."
                    },
                    "metadata": {}
                },
                {
                    "output_type": "display_data",
                    "data": {
                        "text/html": "(25 rows affected)"
                    },
                    "metadata": {}
                },
                {
                    "output_type": "display_data",
                    "data": {
                        "text/html": "Total execution time: 00:00:00.143"
                    },
                    "metadata": {}
                },
                {
                    "output_type": "execute_result",
                    "metadata": {},
                    "execution_count": 18,
                    "data": {
                        "application/vnd.dataresource+json": {
                            "schema": {
                                "fields": [
                                    {
                                        "name": "Location"
                                    },
                                    {
                                        "name": "continent"
                                    },
                                    {
                                        "name": "max_infection_count"
                                    },
                                    {
                                        "name": "population"
                                    },
                                    {
                                        "name": "percent_population_infected"
                                    }
                                ]
                            },
                            "data": [
                                {
                                    "Location": "Cyprus",
                                    "continent": "Europe",
                                    "max_infection_count": "660854",
                                    "population": "896007",
                                    "percent_population_infected": "73.7554505712566978"
                                },
                                {
                                    "Location": "San Marino",
                                    "continent": "Europe",
                                    "max_infection_count": "24367",
                                    "population": "33690",
                                    "percent_population_infected": "72.3271000296823983"
                                },
                                {
                                    "Location": "Brunei",
                                    "continent": "Asia",
                                    "max_infection_count": "310019",
                                    "population": "449002",
                                    "percent_population_infected": "69.0462403285508751"
                                },
                                {
                                    "Location": "Austria",
                                    "continent": "Europe",
                                    "max_infection_count": "6081287",
                                    "population": "8939617",
                                    "percent_population_infected": "68.0262588430801901"
                                },
                                {
                                    "Location": "Faeroe Islands",
                                    "continent": "Europe",
                                    "max_infection_count": "34658",
                                    "population": "53117",
                                    "percent_population_infected": "65.2484138787958657"
                                },
                                {
                                    "Location": "South Korea",
                                    "continent": "Asia",
                                    "max_infection_count": "33201796",
                                    "population": "51815808",
                                    "percent_population_infected": "64.0765767852158168"
                                },
                                {
                                    "Location": "Slovenia",
                                    "continent": "Europe",
                                    "max_infection_count": "1344637",
                                    "population": "2119843",
                                    "percent_population_infected": "63.4309710671969575"
                                },
                                {
                                    "Location": "Gibraltar",
                                    "continent": "Europe",
                                    "max_infection_count": "20550",
                                    "population": "32677",
                                    "percent_population_infected": "62.8882700370291030"
                                },
                                {
                                    "Location": "Martinique",
                                    "continent": "North America",
                                    "max_infection_count": "230354",
                                    "population": "367512",
                                    "percent_population_infected": "62.6793138727442913"
                                },
                                {
                                    "Location": "Andorra",
                                    "continent": "Europe",
                                    "max_infection_count": "48015",
                                    "population": "79843",
                                    "percent_population_infected": "60.1367684080007014"
                                },
                                {
                                    "Location": "Jersey",
                                    "continent": "Europe",
                                    "max_infection_count": "66391",
                                    "population": "110796",
                                    "percent_population_infected": "59.9218383335138453"
                                },
                                {
                                    "Location": "Luxembourg",
                                    "continent": "Europe",
                                    "max_infection_count": "382946",
                                    "population": "647601",
                                    "percent_population_infected": "59.1330155450655573"
                                },
                                {
                                    "Location": "Saint Pierre and Miquelon",
                                    "continent": "North America",
                                    "max_infection_count": "3426",
                                    "population": "5885",
                                    "percent_population_infected": "58.2158028887000850"
                                },
                                {
                                    "Location": "Denmark",
                                    "continent": "Europe",
                                    "max_infection_count": "3414674",
                                    "population": "5882259",
                                    "percent_population_infected": "58.0503850646494825"
                                },
                                {
                                    "Location": "France",
                                    "continent": "Europe",
                                    "max_infection_count": "38997490",
                                    "population": "67813000",
                                    "percent_population_infected": "57.5073953371772374"
                                },
                                {
                                    "Location": "Iceland",
                                    "continent": "Europe",
                                    "max_infection_count": "208757",
                                    "population": "372903",
                                    "percent_population_infected": "55.9815823417886153"
                                },
                                {
                                    "Location": "Guernsey",
                                    "continent": "Europe",
                                    "max_infection_count": "35326",
                                    "population": "63329",
                                    "percent_population_infected": "55.7817113802523331"
                                },
                                {
                                    "Location": "Liechtenstein",
                                    "continent": "Europe",
                                    "max_infection_count": "21473",
                                    "population": "39355",
                                    "percent_population_infected": "54.5623173675517723"
                                },
                                {
                                    "Location": "Portugal",
                                    "continent": "Europe",
                                    "max_infection_count": "5596420",
                                    "population": "10270857",
                                    "percent_population_infected": "54.4883450329412628"
                                },
                                {
                                    "Location": "Latvia",
                                    "continent": "Europe",
                                    "max_infection_count": "975790",
                                    "population": "1850654",
                                    "percent_population_infected": "52.7267657811778971"
                                },
                                {
                                    "Location": "Greece",
                                    "continent": "Europe",
                                    "max_infection_count": "5344865",
                                    "population": "10384972",
                                    "percent_population_infected": "51.4673029450633088"
                                },
                                {
                                    "Location": "Guadeloupe",
                                    "continent": "North America",
                                    "max_infection_count": "203235",
                                    "population": "395762",
                                    "percent_population_infected": "51.3528332684795407"
                                },
                                {
                                    "Location": "Israel",
                                    "continent": "Asia",
                                    "max_infection_count": "4831302",
                                    "population": "9449000",
                                    "percent_population_infected": "51.1302995025928670"
                                },
                                {
                                    "Location": "Reunion",
                                    "continent": "Africa",
                                    "max_infection_count": "494595",
                                    "population": "974062",
                                    "percent_population_infected": "50.7765419449685954"
                                },
                                {
                                    "Location": "Falkland Islands",
                                    "continent": "South America",
                                    "max_infection_count": "1923",
                                    "population": "3801",
                                    "percent_population_infected": "50.5919494869771113"
                                }
                            ]
                        },
                        "text/html": [
                            "<table>",
                            "<tr><th>Location</th><th>continent</th><th>max_infection_count</th><th>population</th><th>percent_population_infected</th></tr>",
                            "<tr><td>Cyprus</td><td>Europe</td><td>660854</td><td>896007</td><td>73.7554505712566978</td></tr>",
                            "<tr><td>San Marino</td><td>Europe</td><td>24367</td><td>33690</td><td>72.3271000296823983</td></tr>",
                            "<tr><td>Brunei</td><td>Asia</td><td>310019</td><td>449002</td><td>69.0462403285508751</td></tr>",
                            "<tr><td>Austria</td><td>Europe</td><td>6081287</td><td>8939617</td><td>68.0262588430801901</td></tr>",
                            "<tr><td>Faeroe Islands</td><td>Europe</td><td>34658</td><td>53117</td><td>65.2484138787958657</td></tr>",
                            "<tr><td>South Korea</td><td>Asia</td><td>33201796</td><td>51815808</td><td>64.0765767852158168</td></tr>",
                            "<tr><td>Slovenia</td><td>Europe</td><td>1344637</td><td>2119843</td><td>63.4309710671969575</td></tr>",
                            "<tr><td>Gibraltar</td><td>Europe</td><td>20550</td><td>32677</td><td>62.8882700370291030</td></tr>",
                            "<tr><td>Martinique</td><td>North America</td><td>230354</td><td>367512</td><td>62.6793138727442913</td></tr>",
                            "<tr><td>Andorra</td><td>Europe</td><td>48015</td><td>79843</td><td>60.1367684080007014</td></tr>",
                            "<tr><td>Jersey</td><td>Europe</td><td>66391</td><td>110796</td><td>59.9218383335138453</td></tr>",
                            "<tr><td>Luxembourg</td><td>Europe</td><td>382946</td><td>647601</td><td>59.1330155450655573</td></tr>",
                            "<tr><td>Saint Pierre and Miquelon</td><td>North America</td><td>3426</td><td>5885</td><td>58.2158028887000850</td></tr>",
                            "<tr><td>Denmark</td><td>Europe</td><td>3414674</td><td>5882259</td><td>58.0503850646494825</td></tr>",
                            "<tr><td>France</td><td>Europe</td><td>38997490</td><td>67813000</td><td>57.5073953371772374</td></tr>",
                            "<tr><td>Iceland</td><td>Europe</td><td>208757</td><td>372903</td><td>55.9815823417886153</td></tr>",
                            "<tr><td>Guernsey</td><td>Europe</td><td>35326</td><td>63329</td><td>55.7817113802523331</td></tr>",
                            "<tr><td>Liechtenstein</td><td>Europe</td><td>21473</td><td>39355</td><td>54.5623173675517723</td></tr>",
                            "<tr><td>Portugal</td><td>Europe</td><td>5596420</td><td>10270857</td><td>54.4883450329412628</td></tr>",
                            "<tr><td>Latvia</td><td>Europe</td><td>975790</td><td>1850654</td><td>52.7267657811778971</td></tr>",
                            "<tr><td>Greece</td><td>Europe</td><td>5344865</td><td>10384972</td><td>51.4673029450633088</td></tr>",
                            "<tr><td>Guadeloupe</td><td>North America</td><td>203235</td><td>395762</td><td>51.3528332684795407</td></tr>",
                            "<tr><td>Israel</td><td>Asia</td><td>4831302</td><td>9449000</td><td>51.1302995025928670</td></tr>",
                            "<tr><td>Reunion</td><td>Africa</td><td>494595</td><td>974062</td><td>50.7765419449685954</td></tr>",
                            "<tr><td>Falkland Islands</td><td>South America</td><td>1923</td><td>3801</td><td>50.5919494869771113</td></tr>",
                            "</table>"
                        ]
                    }
                }
            ],
            "execution_count": 18
        },
        {
            "cell_type": "markdown",
            "source": [
                "Countries with the highest Deaths as a Percent of Population"
            ],
            "metadata": {
                "azdata_cell_guid": "c47027f8-7821-4be2-b6ca-7a37a35d76da"
            },
            "attachments": {}
        },
        {
            "cell_type": "code",
            "source": [
                "SELECT TOP 25\n",
                "    Location \n",
                "    ,continent\n",
                "    ,MAX(CAST(total_deaths AS INT)) AS total_death_count\n",
                "    ,population\n",
                "    ,(CAST(MAX(total_deaths) AS DECIMAL)/CAST(population AS DECIMAL)) * 100 AS percent_population_deaths\n",
                "FROM CovidDeaths\n",
                "--WHERE date <= '04-30-2021'\n",
                "WHERE continent IS NOT NULL\n",
                "GROUP BY Location, continent, population\n",
                "ORDER BY total_death_count desc;"
            ],
            "metadata": {
                "azdata_cell_guid": "d134c7b3-8f15-4504-a1a0-c6f25ad2219c",
                "language": "sql"
            },
            "outputs": [
                {
                    "output_type": "display_data",
                    "data": {
                        "text/html": "Warning: Null value is eliminated by an aggregate or other SET operation."
                    },
                    "metadata": {}
                },
                {
                    "output_type": "display_data",
                    "data": {
                        "text/html": "(25 rows affected)"
                    },
                    "metadata": {}
                },
                {
                    "output_type": "display_data",
                    "data": {
                        "text/html": "Total execution time: 00:00:00.084"
                    },
                    "metadata": {}
                },
                {
                    "output_type": "execute_result",
                    "metadata": {},
                    "execution_count": 19,
                    "data": {
                        "application/vnd.dataresource+json": {
                            "schema": {
                                "fields": [
                                    {
                                        "name": "Location"
                                    },
                                    {
                                        "name": "continent"
                                    },
                                    {
                                        "name": "total_death_count"
                                    },
                                    {
                                        "name": "population"
                                    },
                                    {
                                        "name": "percent_population_deaths"
                                    }
                                ]
                            },
                            "data": [
                                {
                                    "Location": "United States",
                                    "continent": "North America",
                                    "total_death_count": "1127152",
                                    "population": "338289856",
                                    "percent_population_deaths": "0.3331911909294732"
                                },
                                {
                                    "Location": "Brazil",
                                    "continent": "South America",
                                    "total_death_count": "704659",
                                    "population": "215313504",
                                    "percent_population_deaths": "0.3272711589887089"
                                },
                                {
                                    "Location": "India",
                                    "continent": "Asia",
                                    "total_death_count": "531917",
                                    "population": "1417173120",
                                    "percent_population_deaths": "0.0375336642004613"
                                },
                                {
                                    "Location": "Russia",
                                    "continent": "Europe",
                                    "total_death_count": "399854",
                                    "population": "144713312",
                                    "percent_population_deaths": "0.2763076834285985"
                                },
                                {
                                    "Location": "Mexico",
                                    "continent": "North America",
                                    "total_death_count": "334336",
                                    "population": "127504120",
                                    "percent_population_deaths": "0.2622158405547993"
                                },
                                {
                                    "Location": "United Kingdom",
                                    "continent": "Europe",
                                    "total_death_count": "228429",
                                    "population": "67508936",
                                    "percent_population_deaths": "0.3383685383517228"
                                },
                                {
                                    "Location": "Peru",
                                    "continent": "South America",
                                    "total_death_count": "221364",
                                    "population": "34049588",
                                    "percent_population_deaths": "0.6501224038305544"
                                },
                                {
                                    "Location": "Italy",
                                    "continent": "Europe",
                                    "total_death_count": "191012",
                                    "population": "59037472",
                                    "percent_population_deaths": "0.3235436639292414"
                                },
                                {
                                    "Location": "Germany",
                                    "continent": "Europe",
                                    "total_death_count": "174979",
                                    "population": "83369840",
                                    "percent_population_deaths": "0.2098828545190923"
                                },
                                {
                                    "Location": "France",
                                    "continent": "Europe",
                                    "total_death_count": "167985",
                                    "population": "67813000",
                                    "percent_population_deaths": "0.2477179891761167"
                                },
                                {
                                    "Location": "Indonesia",
                                    "continent": "Asia",
                                    "total_death_count": "161895",
                                    "population": "275501344",
                                    "percent_population_deaths": "0.0587637786623647"
                                },
                                {
                                    "Location": "Iran",
                                    "continent": "Asia",
                                    "total_death_count": "146311",
                                    "population": "88550568",
                                    "percent_population_deaths": "0.1652287538121720"
                                },
                                {
                                    "Location": "Colombia",
                                    "continent": "South America",
                                    "total_death_count": "142942",
                                    "population": "51874028",
                                    "percent_population_deaths": "0.2755560065626675"
                                },
                                {
                                    "Location": "Argentina",
                                    "continent": "South America",
                                    "total_death_count": "130472",
                                    "population": "45510324",
                                    "percent_population_deaths": "0.2866865988473297"
                                },
                                {
                                    "Location": "Spain",
                                    "continent": "Europe",
                                    "total_death_count": "121852",
                                    "population": "47558632",
                                    "percent_population_deaths": "0.2562142662135446"
                                },
                                {
                                    "Location": "China",
                                    "continent": "Asia",
                                    "total_death_count": "121563",
                                    "population": "1425887360",
                                    "percent_population_deaths": "0.0085254279833156"
                                },
                                {
                                    "Location": "Poland",
                                    "continent": "Europe",
                                    "total_death_count": "119635",
                                    "population": "39857144",
                                    "percent_population_deaths": "0.3001594896011616"
                                },
                                {
                                    "Location": "Ukraine",
                                    "continent": "Europe",
                                    "total_death_count": "109904",
                                    "population": "39701744",
                                    "percent_population_deaths": "0.2768241113035236"
                                },
                                {
                                    "Location": "South Africa",
                                    "continent": "Africa",
                                    "total_death_count": "102595",
                                    "population": "59893884",
                                    "percent_population_deaths": "0.1712946183286427"
                                },
                                {
                                    "Location": "Turkey",
                                    "continent": "Asia",
                                    "total_death_count": "101419",
                                    "population": "85341248",
                                    "percent_population_deaths": "0.1188393682735926"
                                },
                                {
                                    "Location": "Japan",
                                    "continent": "Asia",
                                    "total_death_count": "74694",
                                    "population": "123951696",
                                    "percent_population_deaths": "0.0602605711825032"
                                },
                                {
                                    "Location": "Romania",
                                    "continent": "Europe",
                                    "total_death_count": "68253",
                                    "population": "19659270",
                                    "percent_population_deaths": "0.3471797274262981"
                                },
                                {
                                    "Location": "Philippines",
                                    "continent": "Asia",
                                    "total_death_count": "66592",
                                    "population": "115559008",
                                    "percent_population_deaths": "0.0576259706210008"
                                },
                                {
                                    "Location": "Chile",
                                    "continent": "South America",
                                    "total_death_count": "64497",
                                    "population": "19603736",
                                    "percent_population_deaths": "0.3290036144130894"
                                },
                                {
                                    "Location": "Canada",
                                    "continent": "North America",
                                    "total_death_count": "53147",
                                    "population": "38454328",
                                    "percent_population_deaths": "0.1382081101508262"
                                }
                            ]
                        },
                        "text/html": [
                            "<table>",
                            "<tr><th>Location</th><th>continent</th><th>total_death_count</th><th>population</th><th>percent_population_deaths</th></tr>",
                            "<tr><td>United States</td><td>North America</td><td>1127152</td><td>338289856</td><td>0.3331911909294732</td></tr>",
                            "<tr><td>Brazil</td><td>South America</td><td>704659</td><td>215313504</td><td>0.3272711589887089</td></tr>",
                            "<tr><td>India</td><td>Asia</td><td>531917</td><td>1417173120</td><td>0.0375336642004613</td></tr>",
                            "<tr><td>Russia</td><td>Europe</td><td>399854</td><td>144713312</td><td>0.2763076834285985</td></tr>",
                            "<tr><td>Mexico</td><td>North America</td><td>334336</td><td>127504120</td><td>0.2622158405547993</td></tr>",
                            "<tr><td>United Kingdom</td><td>Europe</td><td>228429</td><td>67508936</td><td>0.3383685383517228</td></tr>",
                            "<tr><td>Peru</td><td>South America</td><td>221364</td><td>34049588</td><td>0.6501224038305544</td></tr>",
                            "<tr><td>Italy</td><td>Europe</td><td>191012</td><td>59037472</td><td>0.3235436639292414</td></tr>",
                            "<tr><td>Germany</td><td>Europe</td><td>174979</td><td>83369840</td><td>0.2098828545190923</td></tr>",
                            "<tr><td>France</td><td>Europe</td><td>167985</td><td>67813000</td><td>0.2477179891761167</td></tr>",
                            "<tr><td>Indonesia</td><td>Asia</td><td>161895</td><td>275501344</td><td>0.0587637786623647</td></tr>",
                            "<tr><td>Iran</td><td>Asia</td><td>146311</td><td>88550568</td><td>0.1652287538121720</td></tr>",
                            "<tr><td>Colombia</td><td>South America</td><td>142942</td><td>51874028</td><td>0.2755560065626675</td></tr>",
                            "<tr><td>Argentina</td><td>South America</td><td>130472</td><td>45510324</td><td>0.2866865988473297</td></tr>",
                            "<tr><td>Spain</td><td>Europe</td><td>121852</td><td>47558632</td><td>0.2562142662135446</td></tr>",
                            "<tr><td>China</td><td>Asia</td><td>121563</td><td>1425887360</td><td>0.0085254279833156</td></tr>",
                            "<tr><td>Poland</td><td>Europe</td><td>119635</td><td>39857144</td><td>0.3001594896011616</td></tr>",
                            "<tr><td>Ukraine</td><td>Europe</td><td>109904</td><td>39701744</td><td>0.2768241113035236</td></tr>",
                            "<tr><td>South Africa</td><td>Africa</td><td>102595</td><td>59893884</td><td>0.1712946183286427</td></tr>",
                            "<tr><td>Turkey</td><td>Asia</td><td>101419</td><td>85341248</td><td>0.1188393682735926</td></tr>",
                            "<tr><td>Japan</td><td>Asia</td><td>74694</td><td>123951696</td><td>0.0602605711825032</td></tr>",
                            "<tr><td>Romania</td><td>Europe</td><td>68253</td><td>19659270</td><td>0.3471797274262981</td></tr>",
                            "<tr><td>Philippines</td><td>Asia</td><td>66592</td><td>115559008</td><td>0.0576259706210008</td></tr>",
                            "<tr><td>Chile</td><td>South America</td><td>64497</td><td>19603736</td><td>0.3290036144130894</td></tr>",
                            "<tr><td>Canada</td><td>North America</td><td>53147</td><td>38454328</td><td>0.1382081101508262</td></tr>",
                            "</table>"
                        ]
                    }
                }
            ],
            "execution_count": 19
        },
        {
            "cell_type": "markdown",
            "source": [
                "Breaking Down Data by Continent"
            ],
            "metadata": {
                "azdata_cell_guid": "1ad0c60c-aae7-497b-841b-c259b9da8364"
            },
            "attachments": {}
        },
        {
            "cell_type": "code",
            "source": [
                "SELECT \n",
                "    continent \n",
                "    ,SUM(total_death_count) AS continent_death_count\n",
                "    ,SUM(CAST(population AS FLOAT)) AS continent_population\n",
                "FROM \n",
                "    (SELECT \n",
                "        location \n",
                "        ,continent\n",
                "        ,MAX(CAST(total_deaths AS INT)) AS total_death_count\n",
                "        ,population \n",
                "    FROM CovidDeaths\n",
                "    WHERE continent IS NOT NULL\n",
                "    GROUP BY location, population, continent) AS table1\n",
                "GROUP BY continent\n",
                "ORDER BY continent_death_count desc;"
            ],
            "metadata": {
                "azdata_cell_guid": "6025edff-1830-4088-9bc4-b4a9c2954618",
                "language": "sql",
                "tags": []
            },
            "outputs": [
                {
                    "output_type": "display_data",
                    "data": {
                        "text/html": "Warning: Null value is eliminated by an aggregate or other SET operation."
                    },
                    "metadata": {}
                },
                {
                    "output_type": "display_data",
                    "data": {
                        "text/html": "(6 rows affected)"
                    },
                    "metadata": {}
                },
                {
                    "output_type": "display_data",
                    "data": {
                        "text/html": "Total execution time: 00:00:00.176"
                    },
                    "metadata": {}
                },
                {
                    "output_type": "execute_result",
                    "metadata": {},
                    "execution_count": 20,
                    "data": {
                        "application/vnd.dataresource+json": {
                            "schema": {
                                "fields": [
                                    {
                                        "name": "continent"
                                    },
                                    {
                                        "name": "continent_death_count"
                                    },
                                    {
                                        "name": "continent_population"
                                    }
                                ]
                            },
                            "data": [
                                {
                                    "continent": "Europe",
                                    "continent_death_count": "2074440",
                                    "continent_population": "814493270"
                                },
                                {
                                    "continent": "Asia",
                                    "continent_death_count": "1632364",
                                    "continent_population": "4721838226"
                                },
                                {
                                    "continent": "North America",
                                    "continent_death_count": "1602825",
                                    "continent_population": "600323657"
                                },
                                {
                                    "continent": "South America",
                                    "continent_death_count": "1358946",
                                    "continent_population": "436816679"
                                },
                                {
                                    "continent": "Africa",
                                    "continent_death_count": "259003",
                                    "continent_population": "1426736614"
                                },
                                {
                                    "continent": "Oceania",
                                    "continent_death_count": "29046",
                                    "continent_population": "45038907"
                                }
                            ]
                        },
                        "text/html": [
                            "<table>",
                            "<tr><th>continent</th><th>continent_death_count</th><th>continent_population</th></tr>",
                            "<tr><td>Europe</td><td>2074440</td><td>814493270</td></tr>",
                            "<tr><td>Asia</td><td>1632364</td><td>4721838226</td></tr>",
                            "<tr><td>North America</td><td>1602825</td><td>600323657</td></tr>",
                            "<tr><td>South America</td><td>1358946</td><td>436816679</td></tr>",
                            "<tr><td>Africa</td><td>259003</td><td>1426736614</td></tr>",
                            "<tr><td>Oceania</td><td>29046</td><td>45038907</td></tr>",
                            "</table>"
                        ]
                    }
                }
            ],
            "execution_count": 20
        },
        {
            "cell_type": "markdown",
            "source": [
                "Breaking Down by Continent: Concise Method"
            ],
            "metadata": {
                "azdata_cell_guid": "73881436-3685-4fdc-9383-61aa2b0ea6c3"
            },
            "attachments": {}
        },
        {
            "cell_type": "code",
            "source": [
                "SELECT \n",
                "   location\n",
                "    ,MAX(CAST(total_deaths AS INT)) AS total_death_count\n",
                "    ,population\n",
                "FROM CovidDeaths \n",
                "WHERE continent IS NULL\n",
                "    AND location NOT LIKE '%income%'\n",
                "    AND location NOT LIKE 'world'\n",
                "    AND location NOT LIKE '% union'\n",
                "GROUP BY location, population\n",
                "ORDER BY total_death_count desc;"
            ],
            "metadata": {
                "azdata_cell_guid": "7812432a-d8c3-401e-8922-e9e60a4fdc25",
                "language": "sql"
            },
            "outputs": [
                {
                    "output_type": "display_data",
                    "data": {
                        "text/html": "Warning: Null value is eliminated by an aggregate or other SET operation."
                    },
                    "metadata": {}
                },
                {
                    "output_type": "display_data",
                    "data": {
                        "text/html": "(6 rows affected)"
                    },
                    "metadata": {}
                },
                {
                    "output_type": "display_data",
                    "data": {
                        "text/html": "Total execution time: 00:00:00.053"
                    },
                    "metadata": {}
                },
                {
                    "output_type": "execute_result",
                    "metadata": {},
                    "execution_count": 21,
                    "data": {
                        "application/vnd.dataresource+json": {
                            "schema": {
                                "fields": [
                                    {
                                        "name": "location"
                                    },
                                    {
                                        "name": "total_death_count"
                                    },
                                    {
                                        "name": "population"
                                    }
                                ]
                            },
                            "data": [
                                {
                                    "location": "Europe",
                                    "total_death_count": "2074440",
                                    "population": "744807803"
                                },
                                {
                                    "location": "Asia",
                                    "total_death_count": "1632364",
                                    "population": "4721383370"
                                },
                                {
                                    "location": "North America",
                                    "total_death_count": "1602820",
                                    "population": "600323657"
                                },
                                {
                                    "location": "South America",
                                    "total_death_count": "1356054",
                                    "population": "436816679"
                                },
                                {
                                    "location": "Africa",
                                    "total_death_count": "259001",
                                    "population": "1426736614"
                                },
                                {
                                    "location": "Oceania",
                                    "total_death_count": "29046",
                                    "population": "45038860"
                                }
                            ]
                        },
                        "text/html": [
                            "<table>",
                            "<tr><th>location</th><th>total_death_count</th><th>population</th></tr>",
                            "<tr><td>Europe</td><td>2074440</td><td>744807803</td></tr>",
                            "<tr><td>Asia</td><td>1632364</td><td>4721383370</td></tr>",
                            "<tr><td>North America</td><td>1602820</td><td>600323657</td></tr>",
                            "<tr><td>South America</td><td>1356054</td><td>436816679</td></tr>",
                            "<tr><td>Africa</td><td>259001</td><td>1426736614</td></tr>",
                            "<tr><td>Oceania</td><td>29046</td><td>45038860</td></tr>",
                            "</table>"
                        ]
                    }
                }
            ],
            "execution_count": 21
        },
        {
            "cell_type": "markdown",
            "source": [
                "Calculating Data Across the Globe"
            ],
            "metadata": {
                "azdata_cell_guid": "dfc32d2d-0d06-4c2b-8fc3-dd990530e944"
            },
            "attachments": {}
        },
        {
            "cell_type": "code",
            "source": [
                "SELECT \n",
                "    SUM(new_cases) AS total_cases\n",
                "    ,SUM(CAST(new_deaths AS FLOAT)) AS total_deaths\n",
                "    ,SUM(CAST(new_deaths AS FLOAT))/sum(new_cases) * 100 AS death_percentage\n",
                "FROM CovidDeaths\n",
                "WHERE continent IS NOT NULL;"
            ],
            "metadata": {
                "azdata_cell_guid": "148414dd-76ba-4c23-b576-2123e8c6e7a2",
                "language": "sql"
            },
            "outputs": [
                {
                    "output_type": "display_data",
                    "data": {
                        "text/html": "Warning: Null value is eliminated by an aggregate or other SET operation."
                    },
                    "metadata": {}
                },
                {
                    "output_type": "display_data",
                    "data": {
                        "text/html": "(1 row affected)"
                    },
                    "metadata": {}
                },
                {
                    "output_type": "display_data",
                    "data": {
                        "text/html": "Total execution time: 00:00:00.037"
                    },
                    "metadata": {}
                },
                {
                    "output_type": "execute_result",
                    "metadata": {},
                    "execution_count": 22,
                    "data": {
                        "application/vnd.dataresource+json": {
                            "schema": {
                                "fields": [
                                    {
                                        "name": "total_cases"
                                    },
                                    {
                                        "name": "total_deaths"
                                    },
                                    {
                                        "name": "death_percentage"
                                    }
                                ]
                            },
                            "data": [
                                {
                                    "total_cases": "768999315",
                                    "total_deaths": "7081181",
                                    "death_percentage": "0.9208305991794024"
                                }
                            ]
                        },
                        "text/html": [
                            "<table>",
                            "<tr><th>total_cases</th><th>total_deaths</th><th>death_percentage</th></tr>",
                            "<tr><td>768999315</td><td>7081181</td><td>0.9208305991794024</td></tr>",
                            "</table>"
                        ]
                    }
                }
            ],
            "execution_count": 22
        },
        {
            "cell_type": "markdown",
            "source": [
                "Looking at Total Population Vaccinations"
            ],
            "metadata": {
                "azdata_cell_guid": "7d1ef87a-5de0-4460-ba92-ffb7f65e1baf"
            },
            "attachments": {}
        },
        {
            "cell_type": "code",
            "source": [
                "WITH PopVsVac (continent, location, date, population, new_vaccinations, rolling_vaccinations)\n",
                "AS \n",
                "(SELECT \n",
                "    dea.continent\n",
                "    ,dea.location \n",
                "    ,dea.date \n",
                "    ,dea.population\n",
                "    ,vac.new_vaccinations\n",
                "    ,SUM(CONVERT(FLOAT, vac.new_vaccinations)) \n",
                "        OVER (PARTITION BY dea.location ORDER BY dea.location, dea.date) AS rolling_vaccinations\n",
                "FROM CovidDeaths dea\n",
                "JOIN CovidVaccinations vac\n",
                "    ON dea.location = vac.location \n",
                "    AND dea.date = vac.date\n",
                "WHERE dea.continent IS NOT NULL) \n",
                "SELECT TOP 25 * , (rolling_vaccinations/CAST(population AS FLOAT))*100 AS percent_vaccinated\n",
                "FROM PopVsVac\n",
                "WHERE rolling_vaccinations IS NOT NULL -- added for better viewing with limited tables\n",
                "ORDER BY location, date;"
            ],
            "metadata": {
                "azdata_cell_guid": "e7cbfcbb-acc8-4c1e-aa61-993828bca480",
                "language": "sql",
                "tags": []
            },
            "outputs": [
                {
                    "output_type": "display_data",
                    "data": {
                        "text/html": "Warning: Null value is eliminated by an aggregate or other SET operation."
                    },
                    "metadata": {}
                },
                {
                    "output_type": "display_data",
                    "data": {
                        "text/html": "(25 rows affected)"
                    },
                    "metadata": {}
                },
                {
                    "output_type": "display_data",
                    "data": {
                        "text/html": "Total execution time: 00:00:00.777"
                    },
                    "metadata": {}
                },
                {
                    "output_type": "execute_result",
                    "metadata": {},
                    "execution_count": 23,
                    "data": {
                        "application/vnd.dataresource+json": {
                            "schema": {
                                "fields": [
                                    {
                                        "name": "continent"
                                    },
                                    {
                                        "name": "location"
                                    },
                                    {
                                        "name": "date"
                                    },
                                    {
                                        "name": "population"
                                    },
                                    {
                                        "name": "new_vaccinations"
                                    },
                                    {
                                        "name": "rolling_vaccinations"
                                    },
                                    {
                                        "name": "percent_vaccinated"
                                    }
                                ]
                            },
                            "data": [
                                {
                                    "continent": "Asia",
                                    "location": "Afghanistan",
                                    "date": "2021-05-27",
                                    "population": "41128772",
                                    "new_vaccinations": "2859",
                                    "rolling_vaccinations": "2859",
                                    "percent_vaccinated": "0.006951338104624179"
                                },
                                {
                                    "continent": "Asia",
                                    "location": "Afghanistan",
                                    "date": "2021-05-28",
                                    "population": "41128772",
                                    "new_vaccinations": "NULL",
                                    "rolling_vaccinations": "2859",
                                    "percent_vaccinated": "0.006951338104624179"
                                },
                                {
                                    "continent": "Asia",
                                    "location": "Afghanistan",
                                    "date": "2021-05-29",
                                    "population": "41128772",
                                    "new_vaccinations": "NULL",
                                    "rolling_vaccinations": "2859",
                                    "percent_vaccinated": "0.006951338104624179"
                                },
                                {
                                    "continent": "Asia",
                                    "location": "Afghanistan",
                                    "date": "2021-05-30",
                                    "population": "41128772",
                                    "new_vaccinations": "NULL",
                                    "rolling_vaccinations": "2859",
                                    "percent_vaccinated": "0.006951338104624179"
                                },
                                {
                                    "continent": "Asia",
                                    "location": "Afghanistan",
                                    "date": "2021-05-31",
                                    "population": "41128772",
                                    "new_vaccinations": "NULL",
                                    "rolling_vaccinations": "2859",
                                    "percent_vaccinated": "0.006951338104624179"
                                },
                                {
                                    "continent": "Asia",
                                    "location": "Afghanistan",
                                    "date": "2021-06-01",
                                    "population": "41128772",
                                    "new_vaccinations": "NULL",
                                    "rolling_vaccinations": "2859",
                                    "percent_vaccinated": "0.006951338104624179"
                                },
                                {
                                    "continent": "Asia",
                                    "location": "Afghanistan",
                                    "date": "2021-06-02",
                                    "population": "41128772",
                                    "new_vaccinations": "NULL",
                                    "rolling_vaccinations": "2859",
                                    "percent_vaccinated": "0.006951338104624179"
                                },
                                {
                                    "continent": "Asia",
                                    "location": "Afghanistan",
                                    "date": "2021-06-03",
                                    "population": "41128772",
                                    "new_vaccinations": "4015",
                                    "rolling_vaccinations": "6874",
                                    "percent_vaccinated": "0.016713360661485346"
                                },
                                {
                                    "continent": "Asia",
                                    "location": "Afghanistan",
                                    "date": "2021-06-04",
                                    "population": "41128772",
                                    "new_vaccinations": "NULL",
                                    "rolling_vaccinations": "6874",
                                    "percent_vaccinated": "0.016713360661485346"
                                },
                                {
                                    "continent": "Asia",
                                    "location": "Afghanistan",
                                    "date": "2021-06-05",
                                    "population": "41128772",
                                    "new_vaccinations": "NULL",
                                    "rolling_vaccinations": "6874",
                                    "percent_vaccinated": "0.016713360661485346"
                                },
                                {
                                    "continent": "Asia",
                                    "location": "Afghanistan",
                                    "date": "2021-06-06",
                                    "population": "41128772",
                                    "new_vaccinations": "NULL",
                                    "rolling_vaccinations": "6874",
                                    "percent_vaccinated": "0.016713360661485346"
                                },
                                {
                                    "continent": "Asia",
                                    "location": "Afghanistan",
                                    "date": "2021-06-07",
                                    "population": "41128772",
                                    "new_vaccinations": "NULL",
                                    "rolling_vaccinations": "6874",
                                    "percent_vaccinated": "0.016713360661485346"
                                },
                                {
                                    "continent": "Asia",
                                    "location": "Afghanistan",
                                    "date": "2021-06-08",
                                    "population": "41128772",
                                    "new_vaccinations": "NULL",
                                    "rolling_vaccinations": "6874",
                                    "percent_vaccinated": "0.016713360661485346"
                                },
                                {
                                    "continent": "Asia",
                                    "location": "Afghanistan",
                                    "date": "2021-06-09",
                                    "population": "41128772",
                                    "new_vaccinations": "NULL",
                                    "rolling_vaccinations": "6874",
                                    "percent_vaccinated": "0.016713360661485346"
                                },
                                {
                                    "continent": "Asia",
                                    "location": "Afghanistan",
                                    "date": "2021-06-10",
                                    "population": "41128772",
                                    "new_vaccinations": "NULL",
                                    "rolling_vaccinations": "6874",
                                    "percent_vaccinated": "0.016713360661485346"
                                },
                                {
                                    "continent": "Asia",
                                    "location": "Afghanistan",
                                    "date": "2021-06-11",
                                    "population": "41128772",
                                    "new_vaccinations": "NULL",
                                    "rolling_vaccinations": "6874",
                                    "percent_vaccinated": "0.016713360661485346"
                                },
                                {
                                    "continent": "Asia",
                                    "location": "Afghanistan",
                                    "date": "2021-06-12",
                                    "population": "41128772",
                                    "new_vaccinations": "NULL",
                                    "rolling_vaccinations": "6874",
                                    "percent_vaccinated": "0.016713360661485346"
                                },
                                {
                                    "continent": "Asia",
                                    "location": "Afghanistan",
                                    "date": "2021-06-13",
                                    "population": "41128772",
                                    "new_vaccinations": "NULL",
                                    "rolling_vaccinations": "6874",
                                    "percent_vaccinated": "0.016713360661485346"
                                },
                                {
                                    "continent": "Asia",
                                    "location": "Afghanistan",
                                    "date": "2021-06-14",
                                    "population": "41128772",
                                    "new_vaccinations": "NULL",
                                    "rolling_vaccinations": "6874",
                                    "percent_vaccinated": "0.016713360661485346"
                                },
                                {
                                    "continent": "Asia",
                                    "location": "Afghanistan",
                                    "date": "2021-06-15",
                                    "population": "41128772",
                                    "new_vaccinations": "NULL",
                                    "rolling_vaccinations": "6874",
                                    "percent_vaccinated": "0.016713360661485346"
                                },
                                {
                                    "continent": "Asia",
                                    "location": "Afghanistan",
                                    "date": "2021-06-16",
                                    "population": "41128772",
                                    "new_vaccinations": "NULL",
                                    "rolling_vaccinations": "6874",
                                    "percent_vaccinated": "0.016713360661485346"
                                },
                                {
                                    "continent": "Asia",
                                    "location": "Afghanistan",
                                    "date": "2021-06-17",
                                    "population": "41128772",
                                    "new_vaccinations": "NULL",
                                    "rolling_vaccinations": "6874",
                                    "percent_vaccinated": "0.016713360661485346"
                                },
                                {
                                    "continent": "Asia",
                                    "location": "Afghanistan",
                                    "date": "2021-06-18",
                                    "population": "41128772",
                                    "new_vaccinations": "NULL",
                                    "rolling_vaccinations": "6874",
                                    "percent_vaccinated": "0.016713360661485346"
                                },
                                {
                                    "continent": "Asia",
                                    "location": "Afghanistan",
                                    "date": "2021-06-19",
                                    "population": "41128772",
                                    "new_vaccinations": "NULL",
                                    "rolling_vaccinations": "6874",
                                    "percent_vaccinated": "0.016713360661485346"
                                },
                                {
                                    "continent": "Asia",
                                    "location": "Afghanistan",
                                    "date": "2021-06-20",
                                    "population": "41128772",
                                    "new_vaccinations": "NULL",
                                    "rolling_vaccinations": "6874",
                                    "percent_vaccinated": "0.016713360661485346"
                                }
                            ]
                        },
                        "text/html": [
                            "<table>",
                            "<tr><th>continent</th><th>location</th><th>date</th><th>population</th><th>new_vaccinations</th><th>rolling_vaccinations</th><th>percent_vaccinated</th></tr>",
                            "<tr><td>Asia</td><td>Afghanistan</td><td>2021-05-27</td><td>41128772</td><td>2859</td><td>2859</td><td>0.006951338104624179</td></tr>",
                            "<tr><td>Asia</td><td>Afghanistan</td><td>2021-05-28</td><td>41128772</td><td>NULL</td><td>2859</td><td>0.006951338104624179</td></tr>",
                            "<tr><td>Asia</td><td>Afghanistan</td><td>2021-05-29</td><td>41128772</td><td>NULL</td><td>2859</td><td>0.006951338104624179</td></tr>",
                            "<tr><td>Asia</td><td>Afghanistan</td><td>2021-05-30</td><td>41128772</td><td>NULL</td><td>2859</td><td>0.006951338104624179</td></tr>",
                            "<tr><td>Asia</td><td>Afghanistan</td><td>2021-05-31</td><td>41128772</td><td>NULL</td><td>2859</td><td>0.006951338104624179</td></tr>",
                            "<tr><td>Asia</td><td>Afghanistan</td><td>2021-06-01</td><td>41128772</td><td>NULL</td><td>2859</td><td>0.006951338104624179</td></tr>",
                            "<tr><td>Asia</td><td>Afghanistan</td><td>2021-06-02</td><td>41128772</td><td>NULL</td><td>2859</td><td>0.006951338104624179</td></tr>",
                            "<tr><td>Asia</td><td>Afghanistan</td><td>2021-06-03</td><td>41128772</td><td>4015</td><td>6874</td><td>0.016713360661485346</td></tr>",
                            "<tr><td>Asia</td><td>Afghanistan</td><td>2021-06-04</td><td>41128772</td><td>NULL</td><td>6874</td><td>0.016713360661485346</td></tr>",
                            "<tr><td>Asia</td><td>Afghanistan</td><td>2021-06-05</td><td>41128772</td><td>NULL</td><td>6874</td><td>0.016713360661485346</td></tr>",
                            "<tr><td>Asia</td><td>Afghanistan</td><td>2021-06-06</td><td>41128772</td><td>NULL</td><td>6874</td><td>0.016713360661485346</td></tr>",
                            "<tr><td>Asia</td><td>Afghanistan</td><td>2021-06-07</td><td>41128772</td><td>NULL</td><td>6874</td><td>0.016713360661485346</td></tr>",
                            "<tr><td>Asia</td><td>Afghanistan</td><td>2021-06-08</td><td>41128772</td><td>NULL</td><td>6874</td><td>0.016713360661485346</td></tr>",
                            "<tr><td>Asia</td><td>Afghanistan</td><td>2021-06-09</td><td>41128772</td><td>NULL</td><td>6874</td><td>0.016713360661485346</td></tr>",
                            "<tr><td>Asia</td><td>Afghanistan</td><td>2021-06-10</td><td>41128772</td><td>NULL</td><td>6874</td><td>0.016713360661485346</td></tr>",
                            "<tr><td>Asia</td><td>Afghanistan</td><td>2021-06-11</td><td>41128772</td><td>NULL</td><td>6874</td><td>0.016713360661485346</td></tr>",
                            "<tr><td>Asia</td><td>Afghanistan</td><td>2021-06-12</td><td>41128772</td><td>NULL</td><td>6874</td><td>0.016713360661485346</td></tr>",
                            "<tr><td>Asia</td><td>Afghanistan</td><td>2021-06-13</td><td>41128772</td><td>NULL</td><td>6874</td><td>0.016713360661485346</td></tr>",
                            "<tr><td>Asia</td><td>Afghanistan</td><td>2021-06-14</td><td>41128772</td><td>NULL</td><td>6874</td><td>0.016713360661485346</td></tr>",
                            "<tr><td>Asia</td><td>Afghanistan</td><td>2021-06-15</td><td>41128772</td><td>NULL</td><td>6874</td><td>0.016713360661485346</td></tr>",
                            "<tr><td>Asia</td><td>Afghanistan</td><td>2021-06-16</td><td>41128772</td><td>NULL</td><td>6874</td><td>0.016713360661485346</td></tr>",
                            "<tr><td>Asia</td><td>Afghanistan</td><td>2021-06-17</td><td>41128772</td><td>NULL</td><td>6874</td><td>0.016713360661485346</td></tr>",
                            "<tr><td>Asia</td><td>Afghanistan</td><td>2021-06-18</td><td>41128772</td><td>NULL</td><td>6874</td><td>0.016713360661485346</td></tr>",
                            "<tr><td>Asia</td><td>Afghanistan</td><td>2021-06-19</td><td>41128772</td><td>NULL</td><td>6874</td><td>0.016713360661485346</td></tr>",
                            "<tr><td>Asia</td><td>Afghanistan</td><td>2021-06-20</td><td>41128772</td><td>NULL</td><td>6874</td><td>0.016713360661485346</td></tr>",
                            "</table>"
                        ]
                    }
                }
            ],
            "execution_count": 23
        },
        {
            "cell_type": "code",
            "source": [
                "-- using temporary table \n",
                "\n",
                "DROP TABLE IF EXISTS #PercentPopulationVaccinated\n",
                "CREATE TABLE #PercentPopulationVaccinated \n",
                "(\n",
                "    continent NVARCHAR(255)\n",
                "    ,location NVARCHAR(255)\n",
                "    ,Date DATE\n",
                "    ,Population NUMERIC\n",
                "    ,new_vaccinations NUMERIC\n",
                "    ,rolling_vaccinations NUMERIC\n",
                ")\n",
                "\n",
                "INSERT INTO #PercentPopulationVaccinated\n",
                "SELECT \n",
                "    dea.continent\n",
                "    ,dea.location \n",
                "    ,dea.date \n",
                "    ,dea.population\n",
                "    ,vac.new_vaccinations\n",
                "    ,SUM(CONVERT(FLOAT, vac.new_vaccinations)) \n",
                "        OVER (PARTITION BY dea.location ORDER BY dea.location, dea.date) AS rolling_vaccinations\n",
                "FROM CovidDeaths dea\n",
                "JOIN CovidVaccinations vac\n",
                "    ON dea.location = vac.location \n",
                "    AND dea.date = vac.date\n",
                "WHERE dea.continent IS NOT NULL\n",
                "\n",
                "SELECT TOP 25\n",
                "    *\n",
                "    ,(rolling_vaccinations/population)*100 AS percent_vaccinated\n",
                "FROM #PercentPopulationVaccinated\n",
                "WHERE rolling_vaccinations IS NOT NULL -- added for better viewing with limited tables\n",
                "ORDER BY 2,3;"
            ],
            "metadata": {
                "azdata_cell_guid": "e5578a72-2612-49fc-a3f3-cc4152f21b65",
                "language": "sql"
            },
            "outputs": [
                {
                    "output_type": "display_data",
                    "data": {
                        "text/html": "Warning: Null value is eliminated by an aggregate or other SET operation."
                    },
                    "metadata": {}
                },
                {
                    "output_type": "display_data",
                    "data": {
                        "text/html": "(315072 rows affected)"
                    },
                    "metadata": {}
                },
                {
                    "output_type": "display_data",
                    "data": {
                        "text/html": "(25 rows affected)"
                    },
                    "metadata": {}
                },
                {
                    "output_type": "display_data",
                    "data": {
                        "text/html": "Total execution time: 00:00:01.351"
                    },
                    "metadata": {}
                },
                {
                    "output_type": "execute_result",
                    "metadata": {},
                    "execution_count": 24,
                    "data": {
                        "application/vnd.dataresource+json": {
                            "schema": {
                                "fields": [
                                    {
                                        "name": "continent"
                                    },
                                    {
                                        "name": "location"
                                    },
                                    {
                                        "name": "Date"
                                    },
                                    {
                                        "name": "Population"
                                    },
                                    {
                                        "name": "new_vaccinations"
                                    },
                                    {
                                        "name": "rolling_vaccinations"
                                    },
                                    {
                                        "name": "percent_vaccinated"
                                    }
                                ]
                            },
                            "data": [
                                {
                                    "continent": "Asia",
                                    "location": "Afghanistan",
                                    "Date": "2021-05-27",
                                    "Population": "41128772",
                                    "new_vaccinations": "2859",
                                    "rolling_vaccinations": "2859",
                                    "percent_vaccinated": "0.0069513381046242"
                                },
                                {
                                    "continent": "Asia",
                                    "location": "Afghanistan",
                                    "Date": "2021-05-28",
                                    "Population": "41128772",
                                    "new_vaccinations": "NULL",
                                    "rolling_vaccinations": "2859",
                                    "percent_vaccinated": "0.0069513381046242"
                                },
                                {
                                    "continent": "Asia",
                                    "location": "Afghanistan",
                                    "Date": "2021-05-29",
                                    "Population": "41128772",
                                    "new_vaccinations": "NULL",
                                    "rolling_vaccinations": "2859",
                                    "percent_vaccinated": "0.0069513381046242"
                                },
                                {
                                    "continent": "Asia",
                                    "location": "Afghanistan",
                                    "Date": "2021-05-30",
                                    "Population": "41128772",
                                    "new_vaccinations": "NULL",
                                    "rolling_vaccinations": "2859",
                                    "percent_vaccinated": "0.0069513381046242"
                                },
                                {
                                    "continent": "Asia",
                                    "location": "Afghanistan",
                                    "Date": "2021-05-31",
                                    "Population": "41128772",
                                    "new_vaccinations": "NULL",
                                    "rolling_vaccinations": "2859",
                                    "percent_vaccinated": "0.0069513381046242"
                                },
                                {
                                    "continent": "Asia",
                                    "location": "Afghanistan",
                                    "Date": "2021-06-01",
                                    "Population": "41128772",
                                    "new_vaccinations": "NULL",
                                    "rolling_vaccinations": "2859",
                                    "percent_vaccinated": "0.0069513381046242"
                                },
                                {
                                    "continent": "Asia",
                                    "location": "Afghanistan",
                                    "Date": "2021-06-02",
                                    "Population": "41128772",
                                    "new_vaccinations": "NULL",
                                    "rolling_vaccinations": "2859",
                                    "percent_vaccinated": "0.0069513381046242"
                                },
                                {
                                    "continent": "Asia",
                                    "location": "Afghanistan",
                                    "Date": "2021-06-03",
                                    "Population": "41128772",
                                    "new_vaccinations": "4015",
                                    "rolling_vaccinations": "6874",
                                    "percent_vaccinated": "0.0167133606614853"
                                },
                                {
                                    "continent": "Asia",
                                    "location": "Afghanistan",
                                    "Date": "2021-06-04",
                                    "Population": "41128772",
                                    "new_vaccinations": "NULL",
                                    "rolling_vaccinations": "6874",
                                    "percent_vaccinated": "0.0167133606614853"
                                },
                                {
                                    "continent": "Asia",
                                    "location": "Afghanistan",
                                    "Date": "2021-06-05",
                                    "Population": "41128772",
                                    "new_vaccinations": "NULL",
                                    "rolling_vaccinations": "6874",
                                    "percent_vaccinated": "0.0167133606614853"
                                },
                                {
                                    "continent": "Asia",
                                    "location": "Afghanistan",
                                    "Date": "2021-06-06",
                                    "Population": "41128772",
                                    "new_vaccinations": "NULL",
                                    "rolling_vaccinations": "6874",
                                    "percent_vaccinated": "0.0167133606614853"
                                },
                                {
                                    "continent": "Asia",
                                    "location": "Afghanistan",
                                    "Date": "2021-06-07",
                                    "Population": "41128772",
                                    "new_vaccinations": "NULL",
                                    "rolling_vaccinations": "6874",
                                    "percent_vaccinated": "0.0167133606614853"
                                },
                                {
                                    "continent": "Asia",
                                    "location": "Afghanistan",
                                    "Date": "2021-06-08",
                                    "Population": "41128772",
                                    "new_vaccinations": "NULL",
                                    "rolling_vaccinations": "6874",
                                    "percent_vaccinated": "0.0167133606614853"
                                },
                                {
                                    "continent": "Asia",
                                    "location": "Afghanistan",
                                    "Date": "2021-06-09",
                                    "Population": "41128772",
                                    "new_vaccinations": "NULL",
                                    "rolling_vaccinations": "6874",
                                    "percent_vaccinated": "0.0167133606614853"
                                },
                                {
                                    "continent": "Asia",
                                    "location": "Afghanistan",
                                    "Date": "2021-06-10",
                                    "Population": "41128772",
                                    "new_vaccinations": "NULL",
                                    "rolling_vaccinations": "6874",
                                    "percent_vaccinated": "0.0167133606614853"
                                },
                                {
                                    "continent": "Asia",
                                    "location": "Afghanistan",
                                    "Date": "2021-06-11",
                                    "Population": "41128772",
                                    "new_vaccinations": "NULL",
                                    "rolling_vaccinations": "6874",
                                    "percent_vaccinated": "0.0167133606614853"
                                },
                                {
                                    "continent": "Asia",
                                    "location": "Afghanistan",
                                    "Date": "2021-06-12",
                                    "Population": "41128772",
                                    "new_vaccinations": "NULL",
                                    "rolling_vaccinations": "6874",
                                    "percent_vaccinated": "0.0167133606614853"
                                },
                                {
                                    "continent": "Asia",
                                    "location": "Afghanistan",
                                    "Date": "2021-06-13",
                                    "Population": "41128772",
                                    "new_vaccinations": "NULL",
                                    "rolling_vaccinations": "6874",
                                    "percent_vaccinated": "0.0167133606614853"
                                },
                                {
                                    "continent": "Asia",
                                    "location": "Afghanistan",
                                    "Date": "2021-06-14",
                                    "Population": "41128772",
                                    "new_vaccinations": "NULL",
                                    "rolling_vaccinations": "6874",
                                    "percent_vaccinated": "0.0167133606614853"
                                },
                                {
                                    "continent": "Asia",
                                    "location": "Afghanistan",
                                    "Date": "2021-06-15",
                                    "Population": "41128772",
                                    "new_vaccinations": "NULL",
                                    "rolling_vaccinations": "6874",
                                    "percent_vaccinated": "0.0167133606614853"
                                },
                                {
                                    "continent": "Asia",
                                    "location": "Afghanistan",
                                    "Date": "2021-06-16",
                                    "Population": "41128772",
                                    "new_vaccinations": "NULL",
                                    "rolling_vaccinations": "6874",
                                    "percent_vaccinated": "0.0167133606614853"
                                },
                                {
                                    "continent": "Asia",
                                    "location": "Afghanistan",
                                    "Date": "2021-06-17",
                                    "Population": "41128772",
                                    "new_vaccinations": "NULL",
                                    "rolling_vaccinations": "6874",
                                    "percent_vaccinated": "0.0167133606614853"
                                },
                                {
                                    "continent": "Asia",
                                    "location": "Afghanistan",
                                    "Date": "2021-06-18",
                                    "Population": "41128772",
                                    "new_vaccinations": "NULL",
                                    "rolling_vaccinations": "6874",
                                    "percent_vaccinated": "0.0167133606614853"
                                },
                                {
                                    "continent": "Asia",
                                    "location": "Afghanistan",
                                    "Date": "2021-06-19",
                                    "Population": "41128772",
                                    "new_vaccinations": "NULL",
                                    "rolling_vaccinations": "6874",
                                    "percent_vaccinated": "0.0167133606614853"
                                },
                                {
                                    "continent": "Asia",
                                    "location": "Afghanistan",
                                    "Date": "2021-06-20",
                                    "Population": "41128772",
                                    "new_vaccinations": "NULL",
                                    "rolling_vaccinations": "6874",
                                    "percent_vaccinated": "0.0167133606614853"
                                }
                            ]
                        },
                        "text/html": [
                            "<table>",
                            "<tr><th>continent</th><th>location</th><th>Date</th><th>Population</th><th>new_vaccinations</th><th>rolling_vaccinations</th><th>percent_vaccinated</th></tr>",
                            "<tr><td>Asia</td><td>Afghanistan</td><td>2021-05-27</td><td>41128772</td><td>2859</td><td>2859</td><td>0.0069513381046242</td></tr>",
                            "<tr><td>Asia</td><td>Afghanistan</td><td>2021-05-28</td><td>41128772</td><td>NULL</td><td>2859</td><td>0.0069513381046242</td></tr>",
                            "<tr><td>Asia</td><td>Afghanistan</td><td>2021-05-29</td><td>41128772</td><td>NULL</td><td>2859</td><td>0.0069513381046242</td></tr>",
                            "<tr><td>Asia</td><td>Afghanistan</td><td>2021-05-30</td><td>41128772</td><td>NULL</td><td>2859</td><td>0.0069513381046242</td></tr>",
                            "<tr><td>Asia</td><td>Afghanistan</td><td>2021-05-31</td><td>41128772</td><td>NULL</td><td>2859</td><td>0.0069513381046242</td></tr>",
                            "<tr><td>Asia</td><td>Afghanistan</td><td>2021-06-01</td><td>41128772</td><td>NULL</td><td>2859</td><td>0.0069513381046242</td></tr>",
                            "<tr><td>Asia</td><td>Afghanistan</td><td>2021-06-02</td><td>41128772</td><td>NULL</td><td>2859</td><td>0.0069513381046242</td></tr>",
                            "<tr><td>Asia</td><td>Afghanistan</td><td>2021-06-03</td><td>41128772</td><td>4015</td><td>6874</td><td>0.0167133606614853</td></tr>",
                            "<tr><td>Asia</td><td>Afghanistan</td><td>2021-06-04</td><td>41128772</td><td>NULL</td><td>6874</td><td>0.0167133606614853</td></tr>",
                            "<tr><td>Asia</td><td>Afghanistan</td><td>2021-06-05</td><td>41128772</td><td>NULL</td><td>6874</td><td>0.0167133606614853</td></tr>",
                            "<tr><td>Asia</td><td>Afghanistan</td><td>2021-06-06</td><td>41128772</td><td>NULL</td><td>6874</td><td>0.0167133606614853</td></tr>",
                            "<tr><td>Asia</td><td>Afghanistan</td><td>2021-06-07</td><td>41128772</td><td>NULL</td><td>6874</td><td>0.0167133606614853</td></tr>",
                            "<tr><td>Asia</td><td>Afghanistan</td><td>2021-06-08</td><td>41128772</td><td>NULL</td><td>6874</td><td>0.0167133606614853</td></tr>",
                            "<tr><td>Asia</td><td>Afghanistan</td><td>2021-06-09</td><td>41128772</td><td>NULL</td><td>6874</td><td>0.0167133606614853</td></tr>",
                            "<tr><td>Asia</td><td>Afghanistan</td><td>2021-06-10</td><td>41128772</td><td>NULL</td><td>6874</td><td>0.0167133606614853</td></tr>",
                            "<tr><td>Asia</td><td>Afghanistan</td><td>2021-06-11</td><td>41128772</td><td>NULL</td><td>6874</td><td>0.0167133606614853</td></tr>",
                            "<tr><td>Asia</td><td>Afghanistan</td><td>2021-06-12</td><td>41128772</td><td>NULL</td><td>6874</td><td>0.0167133606614853</td></tr>",
                            "<tr><td>Asia</td><td>Afghanistan</td><td>2021-06-13</td><td>41128772</td><td>NULL</td><td>6874</td><td>0.0167133606614853</td></tr>",
                            "<tr><td>Asia</td><td>Afghanistan</td><td>2021-06-14</td><td>41128772</td><td>NULL</td><td>6874</td><td>0.0167133606614853</td></tr>",
                            "<tr><td>Asia</td><td>Afghanistan</td><td>2021-06-15</td><td>41128772</td><td>NULL</td><td>6874</td><td>0.0167133606614853</td></tr>",
                            "<tr><td>Asia</td><td>Afghanistan</td><td>2021-06-16</td><td>41128772</td><td>NULL</td><td>6874</td><td>0.0167133606614853</td></tr>",
                            "<tr><td>Asia</td><td>Afghanistan</td><td>2021-06-17</td><td>41128772</td><td>NULL</td><td>6874</td><td>0.0167133606614853</td></tr>",
                            "<tr><td>Asia</td><td>Afghanistan</td><td>2021-06-18</td><td>41128772</td><td>NULL</td><td>6874</td><td>0.0167133606614853</td></tr>",
                            "<tr><td>Asia</td><td>Afghanistan</td><td>2021-06-19</td><td>41128772</td><td>NULL</td><td>6874</td><td>0.0167133606614853</td></tr>",
                            "<tr><td>Asia</td><td>Afghanistan</td><td>2021-06-20</td><td>41128772</td><td>NULL</td><td>6874</td><td>0.0167133606614853</td></tr>",
                            "</table>"
                        ]
                    }
                }
            ],
            "execution_count": 24
        },
        {
            "cell_type": "markdown",
            "source": [
                "For Visualizing the Possible Corerlation Between Infection Rates, Death Rates, and GDP Per Capita"
            ],
            "metadata": {
                "azdata_cell_guid": "448ee87c-d915-4922-8efc-a77f38be25d9"
            },
            "attachments": {}
        },
        {
            "cell_type": "code",
            "source": [
                "SELECT TOP 25\n",
                "    dea.Location\n",
                "    ,MAX(CAST(total_deaths AS NUMERIC)) AS total_deaths\n",
                "    ,MAX(CAST(total_cases AS NUMERIC)) AS total_cases \n",
                "    ,AVG(CAST(gdp_per_capita AS FLOAT)) AS avg_gdp_per_capita\n",
                "FROM CovidDeaths dea\n",
                "INNER JOIN CovidVaccinations vac \n",
                "ON dea.Location = vac.Location \n",
                "    AND dea.date = vac.date \n",
                "WHERE dea.continent IS NOT NULL \n",
                "GROUP BY dea.Location\n",
                "ORDER BY dea.Location;"
            ],
            "metadata": {
                "azdata_cell_guid": "165b8f4d-2854-4d70-a424-2f8d2cbb30b3",
                "language": "sql"
            },
            "outputs": [
                {
                    "output_type": "display_data",
                    "data": {
                        "text/html": "Warning: Null value is eliminated by an aggregate or other SET operation."
                    },
                    "metadata": {}
                },
                {
                    "output_type": "display_data",
                    "data": {
                        "text/html": "(25 rows affected)"
                    },
                    "metadata": {}
                },
                {
                    "output_type": "display_data",
                    "data": {
                        "text/html": "Total execution time: 00:00:00.160"
                    },
                    "metadata": {}
                },
                {
                    "output_type": "execute_result",
                    "metadata": {},
                    "execution_count": 25,
                    "data": {
                        "application/vnd.dataresource+json": {
                            "schema": {
                                "fields": [
                                    {
                                        "name": "Location"
                                    },
                                    {
                                        "name": "total_deaths"
                                    },
                                    {
                                        "name": "total_cases"
                                    },
                                    {
                                        "name": "avg_gdp_per_capita"
                                    }
                                ]
                            },
                            "data": [
                                {
                                    "Location": "Afghanistan",
                                    "total_deaths": "7940",
                                    "total_cases": "224201",
                                    "avg_gdp_per_capita": "1803.9869999999846"
                                },
                                {
                                    "Location": "Albania",
                                    "total_deaths": "3604",
                                    "total_cases": "334090",
                                    "avg_gdp_per_capita": "11803.43099999989"
                                },
                                {
                                    "Location": "Algeria",
                                    "total_deaths": "6881",
                                    "total_cases": "271852",
                                    "avg_gdp_per_capita": "13913.838999999827"
                                },
                                {
                                    "Location": "American Samoa",
                                    "total_deaths": "34",
                                    "total_cases": "8332",
                                    "avg_gdp_per_capita": "NULL"
                                },
                                {
                                    "Location": "Andorra",
                                    "total_deaths": "159",
                                    "total_cases": "48015",
                                    "avg_gdp_per_capita": "NULL"
                                },
                                {
                                    "Location": "Angola",
                                    "total_deaths": "1934",
                                    "total_cases": "105384",
                                    "avg_gdp_per_capita": "5819.495000000095"
                                },
                                {
                                    "Location": "Anguilla",
                                    "total_deaths": "12",
                                    "total_cases": "3904",
                                    "avg_gdp_per_capita": "NULL"
                                },
                                {
                                    "Location": "Antigua and Barbuda",
                                    "total_deaths": "146",
                                    "total_cases": "9106",
                                    "avg_gdp_per_capita": "21490.942999999974"
                                },
                                {
                                    "Location": "Argentina",
                                    "total_deaths": "130472",
                                    "total_cases": "10044957",
                                    "avg_gdp_per_capita": "18933.906999999785"
                                },
                                {
                                    "Location": "Armenia",
                                    "total_deaths": "8751",
                                    "total_cases": "449273",
                                    "avg_gdp_per_capita": "8787.580000000065"
                                },
                                {
                                    "Location": "Aruba",
                                    "total_deaths": "292",
                                    "total_cases": "44224",
                                    "avg_gdp_per_capita": "35973.78099999974"
                                },
                                {
                                    "Location": "Australia",
                                    "total_deaths": "22482",
                                    "total_cases": "11560270",
                                    "avg_gdp_per_capita": "44648.71000000069"
                                },
                                {
                                    "Location": "Austria",
                                    "total_deaths": "22534",
                                    "total_cases": "6081287",
                                    "avg_gdp_per_capita": "45436.68599999926"
                                },
                                {
                                    "Location": "Azerbaijan",
                                    "total_deaths": "10290",
                                    "total_cases": "832021",
                                    "avg_gdp_per_capita": "15847.418999999843"
                                },
                                {
                                    "Location": "Bahamas",
                                    "total_deaths": "844",
                                    "total_cases": "38084",
                                    "avg_gdp_per_capita": "27717.846999999627"
                                },
                                {
                                    "Location": "Bahrain",
                                    "total_deaths": "1536",
                                    "total_cases": "696614",
                                    "avg_gdp_per_capita": "43290.70499999877"
                                },
                                {
                                    "Location": "Bangladesh",
                                    "total_deaths": "29473",
                                    "total_cases": "2044532",
                                    "avg_gdp_per_capita": "3523.9840000000854"
                                },
                                {
                                    "Location": "Barbados",
                                    "total_deaths": "620",
                                    "total_cases": "109503",
                                    "avg_gdp_per_capita": "16978.067999999974"
                                },
                                {
                                    "Location": "Belarus",
                                    "total_deaths": "7118",
                                    "total_cases": "994037",
                                    "avg_gdp_per_capita": "17167.967000000157"
                                },
                                {
                                    "Location": "Belgium",
                                    "total_deaths": "34376",
                                    "total_cases": "4802496",
                                    "avg_gdp_per_capita": "42658.57599999986"
                                },
                                {
                                    "Location": "Belize",
                                    "total_deaths": "688",
                                    "total_cases": "70782",
                                    "avg_gdp_per_capita": "7824.361999999877"
                                },
                                {
                                    "Location": "Benin",
                                    "total_deaths": "163",
                                    "total_cases": "28014",
                                    "avg_gdp_per_capita": "2064.2360000000194"
                                },
                                {
                                    "Location": "Bermuda",
                                    "total_deaths": "165",
                                    "total_cases": "18860",
                                    "avg_gdp_per_capita": "50669.31499999912"
                                },
                                {
                                    "Location": "Bhutan",
                                    "total_deaths": "21",
                                    "total_cases": "62691",
                                    "avg_gdp_per_capita": "8708.596999999821"
                                },
                                {
                                    "Location": "Bolivia",
                                    "total_deaths": "22399",
                                    "total_cases": "1206420",
                                    "avg_gdp_per_capita": "6885.828999999923"
                                }
                            ]
                        },
                        "text/html": [
                            "<table>",
                            "<tr><th>Location</th><th>total_deaths</th><th>total_cases</th><th>avg_gdp_per_capita</th></tr>",
                            "<tr><td>Afghanistan</td><td>7940</td><td>224201</td><td>1803.9869999999846</td></tr>",
                            "<tr><td>Albania</td><td>3604</td><td>334090</td><td>11803.43099999989</td></tr>",
                            "<tr><td>Algeria</td><td>6881</td><td>271852</td><td>13913.838999999827</td></tr>",
                            "<tr><td>American Samoa</td><td>34</td><td>8332</td><td>NULL</td></tr>",
                            "<tr><td>Andorra</td><td>159</td><td>48015</td><td>NULL</td></tr>",
                            "<tr><td>Angola</td><td>1934</td><td>105384</td><td>5819.495000000095</td></tr>",
                            "<tr><td>Anguilla</td><td>12</td><td>3904</td><td>NULL</td></tr>",
                            "<tr><td>Antigua and Barbuda</td><td>146</td><td>9106</td><td>21490.942999999974</td></tr>",
                            "<tr><td>Argentina</td><td>130472</td><td>10044957</td><td>18933.906999999785</td></tr>",
                            "<tr><td>Armenia</td><td>8751</td><td>449273</td><td>8787.580000000065</td></tr>",
                            "<tr><td>Aruba</td><td>292</td><td>44224</td><td>35973.78099999974</td></tr>",
                            "<tr><td>Australia</td><td>22482</td><td>11560270</td><td>44648.71000000069</td></tr>",
                            "<tr><td>Austria</td><td>22534</td><td>6081287</td><td>45436.68599999926</td></tr>",
                            "<tr><td>Azerbaijan</td><td>10290</td><td>832021</td><td>15847.418999999843</td></tr>",
                            "<tr><td>Bahamas</td><td>844</td><td>38084</td><td>27717.846999999627</td></tr>",
                            "<tr><td>Bahrain</td><td>1536</td><td>696614</td><td>43290.70499999877</td></tr>",
                            "<tr><td>Bangladesh</td><td>29473</td><td>2044532</td><td>3523.9840000000854</td></tr>",
                            "<tr><td>Barbados</td><td>620</td><td>109503</td><td>16978.067999999974</td></tr>",
                            "<tr><td>Belarus</td><td>7118</td><td>994037</td><td>17167.967000000157</td></tr>",
                            "<tr><td>Belgium</td><td>34376</td><td>4802496</td><td>42658.57599999986</td></tr>",
                            "<tr><td>Belize</td><td>688</td><td>70782</td><td>7824.361999999877</td></tr>",
                            "<tr><td>Benin</td><td>163</td><td>28014</td><td>2064.2360000000194</td></tr>",
                            "<tr><td>Bermuda</td><td>165</td><td>18860</td><td>50669.31499999912</td></tr>",
                            "<tr><td>Bhutan</td><td>21</td><td>62691</td><td>8708.596999999821</td></tr>",
                            "<tr><td>Bolivia</td><td>22399</td><td>1206420</td><td>6885.828999999923</td></tr>",
                            "</table>"
                        ]
                    }
                }
            ],
            "execution_count": 25
        },
        {
            "cell_type": "markdown",
            "source": [
                "For Visualizing Possible Correlation Between Infection Rates and Handwashing Stations"
            ],
            "metadata": {
                "azdata_cell_guid": "b6593424-76f4-4c41-a70b-c6587ecc3a4d"
            },
            "attachments": {}
        },
        {
            "cell_type": "code",
            "source": [
                "SELECT TOP 25\n",
                "    temp.Location \n",
                "    ,temp.max_infection_count\n",
                "    ,temp.percent_population_infected\n",
                "    ,MAX(vac.handwashing_facilities) AS handwashing_facilities\n",
                "FROM \n",
                "    (SELECT \n",
                "    Location \n",
                "    ,continent\n",
                "    ,MAX(total_cases) AS max_infection_count\n",
                "    ,population\n",
                "    ,(CAST(MAX(total_cases) AS DECIMAL)/CAST(population AS DECIMAL)) * 100 AS percent_population_infected -- percent of population that contracted COVID\n",
                "    FROM CovidDeaths\n",
                "    WHERE continent IS NOT NULL\n",
                "    GROUP BY Location, continent, population) AS temp\n",
                "INNER JOIN CovidVaccinations vac \n",
                "ON temp.Location = vac.Location \n",
                "WHERE temp.continent IS NOT NULL\n",
                "    AND handwashing_facilities IS NOT NULL\n",
                "GROUP BY temp.Location, temp.max_infection_count, temp.percent_population_infected\n",
                "ORDER BY temp.percent_population_infected desc;"
            ],
            "metadata": {
                "azdata_cell_guid": "4f412568-33ca-4dbc-9aa3-d5ae64fd7391",
                "language": "sql"
            },
            "outputs": [
                {
                    "output_type": "display_data",
                    "data": {
                        "text/html": "Warning: Null value is eliminated by an aggregate or other SET operation."
                    },
                    "metadata": {}
                },
                {
                    "output_type": "display_data",
                    "data": {
                        "text/html": "(25 rows affected)"
                    },
                    "metadata": {}
                },
                {
                    "output_type": "display_data",
                    "data": {
                        "text/html": "Total execution time: 00:00:00.105"
                    },
                    "metadata": {}
                },
                {
                    "output_type": "execute_result",
                    "metadata": {},
                    "execution_count": 26,
                    "data": {
                        "application/vnd.dataresource+json": {
                            "schema": {
                                "fields": [
                                    {
                                        "name": "Location"
                                    },
                                    {
                                        "name": "max_infection_count"
                                    },
                                    {
                                        "name": "percent_population_infected"
                                    },
                                    {
                                        "name": "handwashing_facilities"
                                    }
                                ]
                            },
                            "data": [
                                {
                                    "Location": "Barbados",
                                    "max_infection_count": "109503",
                                    "percent_population_infected": "38.8796574423212117",
                                    "handwashing_facilities": "88.469"
                                },
                                {
                                    "Location": "Marshall Islands",
                                    "max_infection_count": "16098",
                                    "percent_population_infected": "38.7036280143293343",
                                    "handwashing_facilities": "82.502"
                                },
                                {
                                    "Location": "Serbia",
                                    "max_infection_count": "2544741",
                                    "percent_population_infected": "37.0330145453418277",
                                    "handwashing_facilities": "97.719"
                                },
                                {
                                    "Location": "Maldives",
                                    "max_infection_count": "186687",
                                    "percent_population_infected": "35.6410295571957129",
                                    "handwashing_facilities": "95.803"
                                },
                                {
                                    "Location": "Mongolia",
                                    "max_infection_count": "1010954",
                                    "percent_population_infected": "29.7481765538979977",
                                    "handwashing_facilities": "71.18"
                                },
                                {
                                    "Location": "Costa Rica",
                                    "max_infection_count": "1238883",
                                    "percent_population_infected": "23.9128009456388892",
                                    "handwashing_facilities": "83.841"
                                },
                                {
                                    "Location": "Moldova",
                                    "max_infection_count": "620823",
                                    "percent_population_infected": "18.9680515662575508",
                                    "handwashing_facilities": "86.979"
                                },
                                {
                                    "Location": "Belize",
                                    "max_infection_count": "70782",
                                    "percent_population_infected": "17.4647470298678708",
                                    "handwashing_facilities": "90.083"
                                },
                                {
                                    "Location": "Saint Lucia",
                                    "max_infection_count": "30052",
                                    "percent_population_infected": "16.7074363992172211",
                                    "handwashing_facilities": "87.202"
                                },
                                {
                                    "Location": "Armenia",
                                    "max_infection_count": "449273",
                                    "percent_population_infected": "16.1581558814474665",
                                    "handwashing_facilities": "94.043"
                                },
                                {
                                    "Location": "Suriname",
                                    "max_infection_count": "82588",
                                    "percent_population_infected": "13.3627594062577866",
                                    "handwashing_facilities": "67.779"
                                },
                                {
                                    "Location": "Trinidad and Tobago",
                                    "max_infection_count": "191496",
                                    "percent_population_infected": "12.5075520413208512",
                                    "handwashing_facilities": "89.443"
                                },
                                {
                                    "Location": "Bosnia and Herzegovina",
                                    "max_infection_count": "403053",
                                    "percent_population_infected": "12.4647985328727428",
                                    "handwashing_facilities": "97.164"
                                },
                                {
                                    "Location": "Colombia",
                                    "max_infection_count": "6377142",
                                    "percent_population_infected": "12.2935161310396023",
                                    "handwashing_facilities": "65.386"
                                },
                                {
                                    "Location": "Vietnam",
                                    "max_infection_count": "11621812",
                                    "percent_population_infected": "11.8364234007044690",
                                    "handwashing_facilities": "85.847"
                                },
                                {
                                    "Location": "Paraguay",
                                    "max_infection_count": "735759",
                                    "percent_population_infected": "10.8507103570477875",
                                    "handwashing_facilities": "79.602"
                                },
                                {
                                    "Location": "Cuba",
                                    "max_infection_count": "1115064",
                                    "percent_population_infected": "9.9450972949282558",
                                    "handwashing_facilities": "85.198"
                                },
                                {
                                    "Location": "Bolivia",
                                    "max_infection_count": "1206420",
                                    "percent_population_infected": "9.8691815210492965",
                                    "handwashing_facilities": "25.383"
                                },
                                {
                                    "Location": "Tunisia",
                                    "max_infection_count": "1153361",
                                    "percent_population_infected": "9.3343328923101725",
                                    "handwashing_facilities": "78.687"
                                },
                                {
                                    "Location": "Guyana",
                                    "max_infection_count": "73385",
                                    "percent_population_infected": "9.0741375025193916",
                                    "handwashing_facilities": "77.159"
                                },
                                {
                                    "Location": "Oman",
                                    "max_infection_count": "399449",
                                    "percent_population_infected": "8.7286454122325896",
                                    "handwashing_facilities": "97.4"
                                },
                                {
                                    "Location": "Azerbaijan",
                                    "max_infection_count": "832021",
                                    "percent_population_infected": "8.0325809479326184",
                                    "handwashing_facilities": "83.241"
                                },
                                {
                                    "Location": "Bhutan",
                                    "max_infection_count": "62691",
                                    "percent_population_infected": "8.0120696728382518",
                                    "handwashing_facilities": "79.807"
                                },
                                {
                                    "Location": "Kazakhstan",
                                    "max_infection_count": "1502857",
                                    "percent_population_infected": "7.7474850755217111",
                                    "handwashing_facilities": "98.999"
                                },
                                {
                                    "Location": "Guatemala",
                                    "max_infection_count": "1271061",
                                    "percent_population_infected": "7.1232185943061595",
                                    "handwashing_facilities": "76.665"
                                }
                            ]
                        },
                        "text/html": [
                            "<table>",
                            "<tr><th>Location</th><th>max_infection_count</th><th>percent_population_infected</th><th>handwashing_facilities</th></tr>",
                            "<tr><td>Barbados</td><td>109503</td><td>38.8796574423212117</td><td>88.469</td></tr>",
                            "<tr><td>Marshall Islands</td><td>16098</td><td>38.7036280143293343</td><td>82.502</td></tr>",
                            "<tr><td>Serbia</td><td>2544741</td><td>37.0330145453418277</td><td>97.719</td></tr>",
                            "<tr><td>Maldives</td><td>186687</td><td>35.6410295571957129</td><td>95.803</td></tr>",
                            "<tr><td>Mongolia</td><td>1010954</td><td>29.7481765538979977</td><td>71.18</td></tr>",
                            "<tr><td>Costa Rica</td><td>1238883</td><td>23.9128009456388892</td><td>83.841</td></tr>",
                            "<tr><td>Moldova</td><td>620823</td><td>18.9680515662575508</td><td>86.979</td></tr>",
                            "<tr><td>Belize</td><td>70782</td><td>17.4647470298678708</td><td>90.083</td></tr>",
                            "<tr><td>Saint Lucia</td><td>30052</td><td>16.7074363992172211</td><td>87.202</td></tr>",
                            "<tr><td>Armenia</td><td>449273</td><td>16.1581558814474665</td><td>94.043</td></tr>",
                            "<tr><td>Suriname</td><td>82588</td><td>13.3627594062577866</td><td>67.779</td></tr>",
                            "<tr><td>Trinidad and Tobago</td><td>191496</td><td>12.5075520413208512</td><td>89.443</td></tr>",
                            "<tr><td>Bosnia and Herzegovina</td><td>403053</td><td>12.4647985328727428</td><td>97.164</td></tr>",
                            "<tr><td>Colombia</td><td>6377142</td><td>12.2935161310396023</td><td>65.386</td></tr>",
                            "<tr><td>Vietnam</td><td>11621812</td><td>11.8364234007044690</td><td>85.847</td></tr>",
                            "<tr><td>Paraguay</td><td>735759</td><td>10.8507103570477875</td><td>79.602</td></tr>",
                            "<tr><td>Cuba</td><td>1115064</td><td>9.9450972949282558</td><td>85.198</td></tr>",
                            "<tr><td>Bolivia</td><td>1206420</td><td>9.8691815210492965</td><td>25.383</td></tr>",
                            "<tr><td>Tunisia</td><td>1153361</td><td>9.3343328923101725</td><td>78.687</td></tr>",
                            "<tr><td>Guyana</td><td>73385</td><td>9.0741375025193916</td><td>77.159</td></tr>",
                            "<tr><td>Oman</td><td>399449</td><td>8.7286454122325896</td><td>97.4</td></tr>",
                            "<tr><td>Azerbaijan</td><td>832021</td><td>8.0325809479326184</td><td>83.241</td></tr>",
                            "<tr><td>Bhutan</td><td>62691</td><td>8.0120696728382518</td><td>79.807</td></tr>",
                            "<tr><td>Kazakhstan</td><td>1502857</td><td>7.7474850755217111</td><td>98.999</td></tr>",
                            "<tr><td>Guatemala</td><td>1271061</td><td>7.1232185943061595</td><td>76.665</td></tr>",
                            "</table>"
                        ]
                    }
                }
            ],
            "execution_count": 26
        },
        {
            "cell_type": "markdown",
            "source": [
                "Creating Views for Tableau Visualization"
            ],
            "metadata": {
                "azdata_cell_guid": "c8a36b0b-28d9-4675-8c66-464caf33d39f"
            },
            "attachments": {}
        },
        {
            "cell_type": "code",
            "source": [
                "CREATE VIEW PercentPopulationVaccinatedView AS\n",
                "SELECT \n",
                "    dea.continent\n",
                "    ,dea.location \n",
                "    ,dea.date \n",
                "    ,dea.population\n",
                "    ,vac.new_vaccinations\n",
                "    ,SUM(CONVERT(FLOAT, vac.new_vaccinations)) \n",
                "        OVER (PARTITION BY dea.location ORDER BY dea.location, dea.date) AS rolling_vaccinations\n",
                "FROM CovidDeaths dea\n",
                "JOIN CovidVaccinations vac\n",
                "    ON dea.location = vac.location \n",
                "    AND dea.date = vac.date\n",
                "WHERE dea.continent IS NOT NULL;"
            ],
            "metadata": {
                "azdata_cell_guid": "417b90f0-fdcd-44cd-8e3a-cdcdc273bb71",
                "language": "sql"
            },
            "outputs": [
                {
                    "output_type": "display_data",
                    "data": {
                        "text/html": "Commands completed successfully."
                    },
                    "metadata": {}
                },
                {
                    "output_type": "display_data",
                    "data": {
                        "text/html": "Total execution time: 00:00:00.008"
                    },
                    "metadata": {}
                }
            ],
            "execution_count": 27
        },
        {
            "cell_type": "code",
            "source": [
                "CREATE VIEW PercentInfectedbyCountry AS\n",
                "SELECT \n",
                "    Location \n",
                "    ,continent\n",
                "    ,MAX(total_cases) AS max_infection_count\n",
                "    ,population\n",
                "    ,(CAST(MAX(total_cases) AS DECIMAL)/CAST(population AS DECIMAL)) * 100 AS percent_population_infected -- percent of population that contracted COVID\n",
                "FROM CovidDeaths\n",
                "--WHERE date <= '04-30-2021'\n",
                "WHERE continent IS NOT NULL\n",
                "GROUP BY Location, continent, population;"
            ],
            "metadata": {
                "azdata_cell_guid": "5347f9fe-ead3-4838-88ae-b6dd0abe623a",
                "language": "sql",
                "tags": []
            },
            "outputs": [
                {
                    "output_type": "display_data",
                    "data": {
                        "text/html": "Commands completed successfully."
                    },
                    "metadata": {}
                },
                {
                    "output_type": "display_data",
                    "data": {
                        "text/html": "Total execution time: 00:00:00.005"
                    },
                    "metadata": {}
                }
            ],
            "execution_count": 28
        },
        {
            "cell_type": "code",
            "source": [
                "CREATE VIEW PercentDeathsbyCountry AS\n",
                "SELECT \n",
                "    Location \n",
                "    ,continent\n",
                "    ,MAX(CAST(total_deaths AS INT)) AS total_death_count\n",
                "    ,population\n",
                "    ,(CAST(MAX(total_deaths) AS DECIMAL)/CAST(population AS DECIMAL)) * 100 AS percent_population_deaths\n",
                "FROM CovidDeaths\n",
                "--WHERE date <= '04-30-2021'\n",
                "WHERE continent IS NOT NULL\n",
                "GROUP BY Location, continent, population;"
            ],
            "metadata": {
                "azdata_cell_guid": "0347809c-9cb8-4617-8cb2-cd4661eb9e50",
                "language": "sql"
            },
            "outputs": [
                {
                    "output_type": "display_data",
                    "data": {
                        "text/html": "Commands completed successfully."
                    },
                    "metadata": {}
                },
                {
                    "output_type": "display_data",
                    "data": {
                        "text/html": "Total execution time: 00:00:00.005"
                    },
                    "metadata": {}
                }
            ],
            "execution_count": 29
        },
        {
            "cell_type": "code",
            "source": [
                "CREATE VIEW CovidDeathsbyContinent AS \n",
                "SELECT \n",
                "   location\n",
                "    ,MAX(CAST(total_deaths AS INT)) AS total_death_count\n",
                "    ,population\n",
                "FROM CovidDeaths \n",
                "WHERE continent IS NULL\n",
                "    AND location NOT LIKE '%income%'\n",
                "    AND location NOT LIKE 'world'\n",
                "GROUP BY location, population;"
            ],
            "metadata": {
                "azdata_cell_guid": "11b3aaf8-d545-433b-9c52-32015f8d11a0",
                "language": "sql",
                "tags": []
            },
            "outputs": [
                {
                    "output_type": "display_data",
                    "data": {
                        "text/html": "Commands completed successfully."
                    },
                    "metadata": {}
                },
                {
                    "output_type": "display_data",
                    "data": {
                        "text/html": "Total execution time: 00:00:00.005"
                    },
                    "metadata": {}
                }
            ],
            "execution_count": 30
        }
    ]
}